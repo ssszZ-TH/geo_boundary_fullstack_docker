{
 "cells": [
  {
   "cell_type": "code",
   "execution_count": 3,
   "metadata": {},
   "outputs": [],
   "source": [
    "import pandas as pd"
   ]
  },
  {
   "cell_type": "code",
   "execution_count": 4,
   "metadata": {},
   "outputs": [
    {
     "name": "stdout",
     "output_type": "stream",
     "text": [
      "           code                 nameTh                     nameEng  \\\n",
      "0      10000000          กรุงเทพมหานคร                     Bangkok   \n",
      "1      10010000              เขตพระนคร                 Phra Nakhon   \n",
      "2      10010100        พระบรมมหาราชวัง  Phra Borom Maha Ratchawang   \n",
      "3      10010200         วังบูรพาภิรมย์         Wang Burapha Phirom   \n",
      "4      10010300             วัดราชบพิธ            Wat Ratchabophit   \n",
      "...         ...                    ...                         ...   \n",
      "10020  96130100                    จวบ                       Chuap   \n",
      "10021  96130200                  บูกิต                       Bukit   \n",
      "10022  96130300             มะรือโบออก                  Maruebo Ok   \n",
      "10023  96810000  อ.บางนรา  จ.นราธิวาส*                               \n",
      "10024  97059600               โคกสอาด*                  Khok Sa-at   \n",
      "\n",
      "       transferdate  \n",
      "0                 0  \n",
      "1                 0  \n",
      "2                 0  \n",
      "3                 0  \n",
      "4                 0  \n",
      "...             ...  \n",
      "10020             0  \n",
      "10021             0  \n",
      "10022             0  \n",
      "10023      25490101  \n",
      "10024      25490101  \n",
      "\n",
      "[10025 rows x 4 columns]\n"
     ]
    }
   ],
   "source": [
    "df_ccaatt_1 = pd.read_csv('./old_data//ccaatt.csv')\n",
    "print(df_ccaatt_1)"
   ]
  },
  {
   "cell_type": "markdown",
   "metadata": {},
   "source": [
    "# clear ที่ถูกยกเลิก ตัวที่ลงท้ายด้วย *"
   ]
  },
  {
   "cell_type": "code",
   "execution_count": 5,
   "metadata": {},
   "outputs": [
    {
     "name": "stdout",
     "output_type": "stream",
     "text": [
      "before drop * 10025\n",
      "after drop * 8441\n",
      "           code           nameTh                     nameEng  transferdate\n",
      "0      10000000    กรุงเทพมหานคร                     Bangkok             0\n",
      "1      10010000        เขตพระนคร                 Phra Nakhon             0\n",
      "2      10010100  พระบรมมหาราชวัง  Phra Borom Maha Ratchawang             0\n",
      "3      10010200   วังบูรพาภิรมย์         Wang Burapha Phirom             0\n",
      "4      10010300       วัดราชบพิธ            Wat Ratchabophit             0\n",
      "...         ...              ...                         ...           ...\n",
      "10018  96120400        ช้างเผือก                Chang Phueak             0\n",
      "10019  96130000       เจาะไอร้อง                  Cho-airong             0\n",
      "10020  96130100              จวบ                       Chuap             0\n",
      "10021  96130200            บูกิต                       Bukit             0\n",
      "10022  96130300       มะรือโบออก                  Maruebo Ok             0\n",
      "\n",
      "[8441 rows x 4 columns]\n"
     ]
    }
   ],
   "source": [
    "print('before drop *',len(df_ccaatt_1))\n",
    "df_ccaatt_2 = df_ccaatt_1[~df_ccaatt_1['nameTh'].str.endswith('*')]\n",
    "print('after drop *',len(df_ccaatt_2))\n",
    "print(df_ccaatt_2)"
   ]
  },
  {
   "cell_type": "markdown",
   "metadata": {},
   "source": [
    "# split digit for code"
   ]
  },
  {
   "cell_type": "code",
   "execution_count": 6,
   "metadata": {},
   "outputs": [
    {
     "name": "stdout",
     "output_type": "stream",
     "text": [
      "           code           nameTh                      nameEn  cc  aa  tt\n",
      "0      10000000    กรุงเทพมหานคร                     Bangkok  10  00  00\n",
      "1      10010000        เขตพระนคร                 Phra Nakhon  10  01  00\n",
      "2      10010100  พระบรมมหาราชวัง  Phra Borom Maha Ratchawang  10  01  01\n",
      "3      10010200   วังบูรพาภิรมย์         Wang Burapha Phirom  10  01  02\n",
      "4      10010300       วัดราชบพิธ            Wat Ratchabophit  10  01  03\n",
      "...         ...              ...                         ...  ..  ..  ..\n",
      "10018  96120400        ช้างเผือก                Chang Phueak  96  12  04\n",
      "10019  96130000       เจาะไอร้อง                  Cho-airong  96  13  00\n",
      "10020  96130100              จวบ                       Chuap  96  13  01\n",
      "10021  96130200            บูกิต                       Bukit  96  13  02\n",
      "10022  96130300       มะรือโบออก                  Maruebo Ok  96  13  03\n",
      "\n",
      "[8441 rows x 6 columns]\n"
     ]
    }
   ],
   "source": [
    "df_ccaatt_3 = pd.DataFrame({\n",
    "    'code': df_ccaatt_2['code'],\n",
    "    'nameTh': df_ccaatt_2['nameTh'],\n",
    "    'nameEn': df_ccaatt_2['nameEng'],\n",
    "    'cc':df_ccaatt_2['code'].astype(str).str[0:2],\n",
    "    'aa':df_ccaatt_2['code'].astype(str).str[2:4],\n",
    "    'tt':df_ccaatt_2['code'].astype(str).str[4:6],\n",
    "})\n",
    "\n",
    "print(df_ccaatt_3)"
   ]
  },
  {
   "cell_type": "markdown",
   "metadata": {},
   "source": [
    "# เเยก จังหวัด อำเภอ ตำบล"
   ]
  },
  {
   "cell_type": "code",
   "execution_count": 10,
   "metadata": {},
   "outputs": [
    {
     "name": "stdout",
     "output_type": "stream",
     "text": [
      "77\n",
      "          code           nameTh                    nameEn  cc  aa  tt\n",
      "0     10000000    กรุงเทพมหานคร                   Bangkok  10  00  00\n",
      "311   11000000      สมุทรปราการ              Samut Prakan  11  00  00\n",
      "382   12000000          นนทบุรี                Nonthaburi  12  00  00\n",
      "443   13000000         ปทุมธานี              Pathum Thani  13  00  00\n",
      "512   14000000  พระนครศรีอยุธยา  Phra Nakhon Si Ayutthaya  14  00  00\n",
      "...        ...              ...                       ...  ..  ..  ..\n",
      "9488  92000000             ตรัง                     Trang  92  00  00\n",
      "9616  93000000           พัทลุง               Phatthalung  93  00  00\n",
      "9716  94000000          ปัตตานี                   Pattani  94  00  00\n",
      "9847  95000000             ยะลา                      Yala  95  00  00\n",
      "9924  96000000         นราธิวาส                Narathiwat  96  00  00\n",
      "\n",
      "[77 rows x 6 columns]\n"
     ]
    },
    {
     "name": "stderr",
     "output_type": "stream",
     "text": [
      "C:\\Users\\ssszz\\AppData\\Local\\Temp\\ipykernel_24964\\309692070.py:2: UserWarning: Boolean Series key will be reindexed to match DataFrame index.\n",
      "  df_changwat = _df_changwat[df_ccaatt_3['tt']=='00']\n"
     ]
    }
   ],
   "source": [
    "_df_changwat = df_ccaatt_3[df_ccaatt_3['aa']=='00']\n",
    "df_changwat = _df_changwat[df_ccaatt_3['tt']=='00']\n",
    "print(len(df_changwat))\n",
    "print(df_changwat)"
   ]
  },
  {
   "cell_type": "code",
   "execution_count": 17,
   "metadata": {},
   "outputs": [
    {
     "name": "stdout",
     "output_type": "stream",
     "text": [
      "928\n",
      "           code      nameTh         nameEn  cc  aa  tt\n",
      "1      10010000   เขตพระนคร    Phra Nakhon  10  01  00\n",
      "14     10020000    เขตดุสิต          Dusit  10  02  00\n",
      "22     10030000  เขตหนองจอก      Nong Chok  10  03  00\n",
      "31     10040000   เขตบางรัก       Bang Rak  10  04  00\n",
      "37     10050000   เขตบางเขน      Bang Khen  10  05  00\n",
      "...         ...         ...            ...  ..  ..  ..\n",
      "9996   96090000     สุคิริน       Sukhirin  96  09  00\n",
      "10002  96100000  สุไหงโก-ลก  Su-ngai Kolok  96  10  00\n",
      "10007  96110000   สุไหงปาดี   Su-ngai Padi  96  11  00\n",
      "10014  96120000       จะแนะ         Chanae  96  12  00\n",
      "10019  96130000  เจาะไอร้อง     Cho-airong  96  13  00\n",
      "\n",
      "[928 rows x 6 columns]\n"
     ]
    },
    {
     "name": "stderr",
     "output_type": "stream",
     "text": [
      "C:\\Users\\ssszz\\AppData\\Local\\Temp\\ipykernel_24964\\1895399528.py:2: UserWarning: Boolean Series key will be reindexed to match DataFrame index.\n",
      "  df_ampur = _df_ampur[df_ccaatt_3['aa'] !='00']\n"
     ]
    }
   ],
   "source": [
    "_df_ampur = df_ccaatt_3[df_ccaatt_3['tt'] =='00']\n",
    "df_ampur = _df_ampur[df_ccaatt_3['aa'] !='00']\n",
    "\n",
    "print(len(df_ampur))\n",
    "print(df_ampur)"
   ]
  },
  {
   "cell_type": "code",
   "execution_count": 18,
   "metadata": {},
   "outputs": [
    {
     "name": "stdout",
     "output_type": "stream",
     "text": [
      "7436\n",
      "           code           nameTh                      nameEn  cc  aa  tt\n",
      "2      10010100  พระบรมมหาราชวัง  Phra Borom Maha Ratchawang  10  01  01\n",
      "3      10010200   วังบูรพาภิรมย์         Wang Burapha Phirom  10  01  02\n",
      "4      10010300       วัดราชบพิธ            Wat Ratchabophit  10  01  03\n",
      "5      10010400      สำราญราษฎร์                  Samran Rat  10  01  04\n",
      "6      10010500   ศาลเจ้าพ่อเสือ           San Chao Pho Suea  10  01  05\n",
      "...         ...              ...                         ...  ..  ..  ..\n",
      "10017  96120300         ผดุงมาตร                 Phadung Mat  96  12  03\n",
      "10018  96120400        ช้างเผือก                Chang Phueak  96  12  04\n",
      "10020  96130100              จวบ                       Chuap  96  13  01\n",
      "10021  96130200            บูกิต                       Bukit  96  13  02\n",
      "10022  96130300       มะรือโบออก                  Maruebo Ok  96  13  03\n",
      "\n",
      "[7436 rows x 6 columns]\n"
     ]
    }
   ],
   "source": [
    "df_tumbon = df_ccaatt_3[df_ccaatt_3['tt'] !='00']\n",
    "\n",
    "print(len(df_tumbon))\n",
    "print(df_tumbon)"
   ]
  },
  {
   "cell_type": "code",
   "execution_count": 20,
   "metadata": {},
   "outputs": [
    {
     "ename": "",
     "evalue": "",
     "output_type": "error",
     "traceback": [
      "\u001b[1;31mThe Kernel crashed while executing code in the current cell or a previous cell. \n",
      "\u001b[1;31mPlease review the code in the cell(s) to identify a possible cause of the failure. \n",
      "\u001b[1;31mClick <a href='https://aka.ms/vscodeJupyterKernelCrash'>here</a> for more info. \n",
      "\u001b[1;31mView Jupyter <a href='command:jupyter.viewOutput'>log</a> for further details."
     ]
    }
   ],
   "source": [
    "df_ccaatt_3.to_csv('./dist/code_name_en_th_ccaatt.csv')"
   ]
  }
 ],
 "metadata": {
  "kernelspec": {
   "display_name": "Python 3",
   "language": "python",
   "name": "python3"
  },
  "language_info": {
   "codemirror_mode": {
    "name": "ipython",
    "version": 3
   },
   "file_extension": ".py",
   "mimetype": "text/x-python",
   "name": "python",
   "nbconvert_exporter": "python",
   "pygments_lexer": "ipython3",
   "version": "3.11.7"
  }
 },
 "nbformat": 4,
 "nbformat_minor": 2
}
