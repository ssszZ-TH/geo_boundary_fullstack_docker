{
 "cells": [
  {
   "cell_type": "markdown",
   "metadata": {},
   "source": [
    "# เพิ่มภาษาอังกฤษ ไทย ลงใน name ของ country table"
   ]
  },
  {
   "cell_type": "code",
   "execution_count": 2,
   "metadata": {},
   "outputs": [],
   "source": [
    "import pandas as pd"
   ]
  },
  {
   "cell_type": "code",
   "execution_count": 3,
   "metadata": {},
   "outputs": [
    {
     "name": "stdout",
     "output_type": "stream",
     "text": [
      "     geo_id    geo_code               name abbreviation  type_id\n",
      "0         1  country-AF        Afghanistan           AF        1\n",
      "1         2  country-AX      Åland Islands           AX        1\n",
      "2         3  country-AL            Albania           AL        1\n",
      "3         4  country-DZ            Algeria           DZ        1\n",
      "4         5  country-AS     American Samoa           AS        1\n",
      "..      ...         ...                ...          ...      ...\n",
      "244     245  country-WF  Wallis and Futuna           WF        1\n",
      "245     246  country-EH     Western Sahara           EH        1\n",
      "246     247  country-YE              Yemen           YE        1\n",
      "247     248  country-ZM             Zambia           ZM        1\n",
      "248     249  country-ZW           Zimbabwe           ZW        1\n",
      "\n",
      "[249 rows x 5 columns]\n"
     ]
    }
   ],
   "source": [
    "# เเก้ปัญหา pandas คิดว่า namibia NA คือ NAN value\n",
    "\n",
    "df_raw = pd.read_csv('./old_data/country_suppertype.csv',keep_default_na=False, na_values=[''])\n",
    "print(df_raw)"
   ]
  },
  {
   "cell_type": "code",
   "execution_count": 4,
   "metadata": {},
   "outputs": [
    {
     "name": "stdout",
     "output_type": "stream",
     "text": [
      "     geo_id geo_code               name abbreviation  type_id\n",
      "0         1       AF        Afghanistan           AF        1\n",
      "1         2       AX      Åland Islands           AX        1\n",
      "2         3       AL            Albania           AL        1\n",
      "3         4       DZ            Algeria           DZ        1\n",
      "4         5       AS     American Samoa           AS        1\n",
      "..      ...      ...                ...          ...      ...\n",
      "244     245       WF  Wallis and Futuna           WF        1\n",
      "245     246       EH     Western Sahara           EH        1\n",
      "246     247       YE              Yemen           YE        1\n",
      "247     248       ZM             Zambia           ZM        1\n",
      "248     249       ZW           Zimbabwe           ZW        1\n",
      "\n",
      "[249 rows x 5 columns]\n"
     ]
    }
   ],
   "source": [
    "df_1 = pd.DataFrame({\n",
    "    'geo_id' : df_raw['geo_id'],\n",
    "    'geo_code' : df_raw['abbreviation'],\n",
    "    'name' : df_raw['name'],\n",
    "    'abbreviation' : df_raw['abbreviation'],\n",
    "    'type_id' : df_raw['type_id']\n",
    "})\n",
    "print(df_1)"
   ]
  },
  {
   "cell_type": "code",
   "execution_count": 5,
   "metadata": {},
   "outputs": [
    {
     "name": "stdout",
     "output_type": "stream",
     "text": [
      "                       name                            enName alpha2 alpha3  \\\n",
      "0                      กรีซ                            Greece     GR    GRC   \n",
      "1                 กรีนแลนด์                         Greenland     GL    GRL   \n",
      "2                       กวม                              Guam     GU    GUM   \n",
      "3                   กัมพูชา                          Cambodia     KH    KHM   \n",
      "4                 กัวเดอลุป                        Guadeloupe     GP    GLP   \n",
      "..                      ...                               ...    ...    ...   \n",
      "244                 ฮังการี                           Hungary     HU    HUN   \n",
      "245                    เฮติ                             Haiti     HT    HTI   \n",
      "246           ซินต์มาร์เติน                      Sint Maarten     SX    SXM   \n",
      "247  เนเธอร์แลนด์แคริบเบียน  Bonaire, Sint Eustatius and Saba     BQ    BES   \n",
      "248     สฟาลบาร์และยานไมเอน            Svalbard and Jan Mayen     SJ    SJM   \n",
      "\n",
      "     numeric      iso3166_2  \n",
      "0        300  ISO 3166-2:GR  \n",
      "1        304  ISO 3166-2:GL  \n",
      "2        316  ISO 3166-2:GU  \n",
      "3        116  ISO 3166-2:KH  \n",
      "4        312  ISO 3166-2:GP  \n",
      "..       ...            ...  \n",
      "244      348  ISO 3166-2:HU  \n",
      "245      332  ISO 3166-2:HT  \n",
      "246      534  ISO 3166-2:SX  \n",
      "247      535  ISO 3166-2:BQ  \n",
      "248      744  ISO 3166-2:SJ  \n",
      "\n",
      "[249 rows x 6 columns]\n"
     ]
    }
   ],
   "source": [
    "df_2 = pd.read_csv('./old_data/country-list-th.csv',keep_default_na=False, na_values=[''])\n",
    "print(df_2)"
   ]
  },
  {
   "cell_type": "code",
   "execution_count": 11,
   "metadata": {},
   "outputs": [
    {
     "name": "stdout",
     "output_type": "stream",
     "text": [
      "   geo_id geo_code          name_x abbreviation  type_id           name_y  \\\n",
      "0       1       AF     Afghanistan           AF        1      อัฟกานิสถาน   \n",
      "1       2       AX   Åland Islands           AX        1  หมู่เกาะโอลันด์   \n",
      "2       3       AL         Albania           AL        1        แอลเบเนีย   \n",
      "3       4       DZ         Algeria           DZ        1        แอลจีเรีย   \n",
      "4       5       AS  American Samoa           AS        1    อเมริกันซามัว   \n",
      "\n",
      "           enName alpha2 alpha3  numeric      iso3166_2  \n",
      "0     Afghanistan     AF    AFG        4  ISO 3166-2:AF  \n",
      "1   Åland Islands     AX    ALA      248  ISO 3166-2:AX  \n",
      "2         Albania     AL    ALB        8  ISO 3166-2:AL  \n",
      "3         Algeria     DZ    DZA       12  ISO 3166-2:DZ  \n",
      "4  American Samoa     AS    ASM       16  ISO 3166-2:AS  \n"
     ]
    }
   ],
   "source": [
    "# add language\n",
    "\n",
    "# รวม df_1 และ df_2 โดยใช้ abbreviation จาก df_1 และ alpha2 จาก df_2\n",
    "df_3 = pd.merge(\n",
    "    df_1,\n",
    "    df_2,\n",
    "    left_on='abbreviation',\n",
    "    right_on='alpha2',\n",
    "    how='inner'  # หรือ how='left' หากต้องการเก็บทุกแถวจาก df_1\n",
    ")\n",
    "# ตรวจสอบคอลัมน์ใน df_3\n",
    "print(df_3.head())\n"
   ]
  },
  {
   "cell_type": "code",
   "execution_count": 12,
   "metadata": {},
   "outputs": [
    {
     "name": "stdout",
     "output_type": "stream",
     "text": [
      "----------------------------------------------------------------------------------------------------\n",
      "     geo_id geo_code            name_en          name_th abbreviation  type_id\n",
      "0         1       AF        Afghanistan      อัฟกานิสถาน           AF        1\n",
      "1         2       AX      Åland Islands  หมู่เกาะโอลันด์           AX        1\n",
      "2         3       AL            Albania        แอลเบเนีย           AL        1\n",
      "3         4       DZ            Algeria        แอลจีเรีย           DZ        1\n",
      "4         5       AS     American Samoa    อเมริกันซามัว           AS        1\n",
      "..      ...      ...                ...              ...          ...      ...\n",
      "244     245       WF  Wallis and Futuna   วาลิสและฟูตูนา           WF        1\n",
      "245     246       EH     Western Sahara    ซาฮาราตะวันตก           EH        1\n",
      "246     247       YE              Yemen            เยเมน           YE        1\n",
      "247     248       ZM             Zambia          แซมเบีย           ZM        1\n",
      "248     249       ZW           Zimbabwe         ซิมบับเว           ZW        1\n",
      "\n",
      "[249 rows x 6 columns]\n"
     ]
    }
   ],
   "source": [
    "\n",
    "# เลือกคอลัมน์ที่ต้องการ\n",
    "df_4 = df_3[['geo_id', 'geo_code', 'enName', 'name_y', 'abbreviation', 'type_id']]\n",
    "\n",
    "# เปลี่ยนชื่อคอลัมน์ให้ตรงตามที่ต้องการ\n",
    "df_4.columns = ['geo_id', 'geo_code', 'name_en', 'name_th', 'abbreviation', 'type_id']\n",
    "\n",
    "print('-'*100)\n",
    "\n",
    "# แสดงผลลัพธ์\n",
    "print(df_4)"
   ]
  },
  {
   "cell_type": "code",
   "execution_count": 13,
   "metadata": {},
   "outputs": [],
   "source": [
    "df_4.to_csv('./country_suppertype_en_th.csv', index=False)"
   ]
  }
 ],
 "metadata": {
  "kernelspec": {
   "display_name": "Python 3",
   "language": "python",
   "name": "python3"
  },
  "language_info": {
   "codemirror_mode": {
    "name": "ipython",
    "version": 3
   },
   "file_extension": ".py",
   "mimetype": "text/x-python",
   "name": "python",
   "nbconvert_exporter": "python",
   "pygments_lexer": "ipython3",
   "version": "3.11.7"
  }
 },
 "nbformat": 4,
 "nbformat_minor": 2
}
