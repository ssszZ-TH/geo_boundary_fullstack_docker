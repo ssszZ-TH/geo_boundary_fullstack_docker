{
 "cells": [
  {
   "cell_type": "code",
   "execution_count": 5,
   "metadata": {},
   "outputs": [],
   "source": [
    "import pandas as pd"
   ]
  },
  {
   "cell_type": "markdown",
   "metadata": {},
   "source": [
    "load data cc aa tt custom มา"
   ]
  },
  {
   "cell_type": "code",
   "execution_count": 9,
   "metadata": {},
   "outputs": [
    {
     "name": "stdout",
     "output_type": "stream",
     "text": [
      "      Unnamed: 0      code           nameTh                      nameEn  cc  \\\n",
      "0              0  10000000    กรุงเทพมหานคร                     Bangkok  10   \n",
      "1              1  10010000        เขตพระนคร                 Phra Nakhon  10   \n",
      "2              2  10010100  พระบรมมหาราชวัง  Phra Borom Maha Ratchawang  10   \n",
      "3              3  10010200   วังบูรพาภิรมย์         Wang Burapha Phirom  10   \n",
      "4              4  10010300       วัดราชบพิธ            Wat Ratchabophit  10   \n",
      "...          ...       ...              ...                         ...  ..   \n",
      "8436       10018  96120400        ช้างเผือก                Chang Phueak  96   \n",
      "8437       10019  96130000       เจาะไอร้อง                  Cho-airong  96   \n",
      "8438       10020  96130100              จวบ                       Chuap  96   \n",
      "8439       10021  96130200            บูกิต                       Bukit  96   \n",
      "8440       10022  96130300       มะรือโบออก                  Maruebo Ok  96   \n",
      "\n",
      "      aa  tt  \n",
      "0     00  00  \n",
      "1     01  00  \n",
      "2     01  01  \n",
      "3     01  02  \n",
      "4     01  03  \n",
      "...   ..  ..  \n",
      "8436  12  04  \n",
      "8437  13  00  \n",
      "8438  13  01  \n",
      "8439  13  02  \n",
      "8440  13  03  \n",
      "\n",
      "[8441 rows x 7 columns]\n"
     ]
    }
   ],
   "source": [
    "df_custom_ccaatt = pd.read_csv('./dist/code_name_en_th_ccaatt.csv',dtype={'cc': str, 'aa': str, 'tt': str})\n",
    "print(df_custom_ccaatt)"
   ]
  },
  {
   "cell_type": "markdown",
   "metadata": {},
   "source": [
    "เเยก จังหวัด อำเภอ"
   ]
  },
  {
   "cell_type": "code",
   "execution_count": 13,
   "metadata": {},
   "outputs": [
    {
     "name": "stdout",
     "output_type": "stream",
     "text": [
      "77 จังหวัด\n",
      "      Unnamed: 0      code           nameTh                    nameEn  cc  aa  \\\n",
      "0              0  10000000    กรุงเทพมหานคร                   Bangkok  10  00   \n",
      "231          311  11000000      สมุทรปราการ              Samut Prakan  11  00   \n",
      "288          382  12000000          นนทบุรี                Nonthaburi  12  00   \n",
      "347          443  13000000         ปทุมธานี              Pathum Thani  13  00   \n",
      "415          512  14000000  พระนครศรีอยุธยา  Phra Nakhon Si Ayutthaya  14  00   \n",
      "...          ...       ...              ...                       ...  ..  ..   \n",
      "7980        9488  92000000             ตรัง                     Trang  92  00   \n",
      "8078        9616  93000000           พัทลุง               Phatthalung  93  00   \n",
      "8155        9716  94000000          ปัตตานี                   Pattani  94  00   \n",
      "8283        9847  95000000             ยะลา                      Yala  95  00   \n",
      "8350        9924  96000000         นราธิวาส                Narathiwat  96  00   \n",
      "\n",
      "      tt  \n",
      "0     00  \n",
      "231   00  \n",
      "288   00  \n",
      "347   00  \n",
      "415   00  \n",
      "...   ..  \n",
      "7980  00  \n",
      "8078  00  \n",
      "8155  00  \n",
      "8283  00  \n",
      "8350  00  \n",
      "\n",
      "[77 rows x 7 columns]\n"
     ]
    },
    {
     "name": "stderr",
     "output_type": "stream",
     "text": [
      "C:\\Users\\ssszz\\AppData\\Local\\Temp\\ipykernel_23292\\343790750.py:2: UserWarning: Boolean Series key will be reindexed to match DataFrame index.\n",
      "  df_changwat = _df_changwat[df_custom_ccaatt['tt']=='00']\n"
     ]
    }
   ],
   "source": [
    "_df_changwat = df_custom_ccaatt[df_custom_ccaatt['aa']=='00']\n",
    "df_changwat = _df_changwat[df_custom_ccaatt['tt']=='00']\n",
    "print(len(df_changwat), 'จังหวัด')\n",
    "print(df_changwat)"
   ]
  },
  {
   "cell_type": "code",
   "execution_count": 14,
   "metadata": {},
   "outputs": [
    {
     "name": "stdout",
     "output_type": "stream",
     "text": [
      "928 อำเภอ\n",
      "      Unnamed: 0      code      nameTh         nameEn  cc  aa  tt\n",
      "1              1  10010000   เขตพระนคร    Phra Nakhon  10  01  00\n",
      "14            14  10020000    เขตดุสิต          Dusit  10  02  00\n",
      "20            22  10030000  เขตหนองจอก      Nong Chok  10  03  00\n",
      "29            31  10040000   เขตบางรัก       Bang Rak  10  04  00\n",
      "35            37  10050000   เขตบางเขน      Bang Khen  10  05  00\n",
      "...          ...       ...         ...            ...  ..  ..  ..\n",
      "8414        9996  96090000     สุคิริน       Sukhirin  96  09  00\n",
      "8420       10002  96100000  สุไหงโก-ลก  Su-ngai Kolok  96  10  00\n",
      "8425       10007  96110000   สุไหงปาดี   Su-ngai Padi  96  11  00\n",
      "8432       10014  96120000       จะแนะ         Chanae  96  12  00\n",
      "8437       10019  96130000  เจาะไอร้อง     Cho-airong  96  13  00\n",
      "\n",
      "[928 rows x 7 columns]\n"
     ]
    },
    {
     "name": "stderr",
     "output_type": "stream",
     "text": [
      "C:\\Users\\ssszz\\AppData\\Local\\Temp\\ipykernel_23292\\2825621936.py:2: UserWarning: Boolean Series key will be reindexed to match DataFrame index.\n",
      "  df_ampur = _df_ampur[df_custom_ccaatt['aa'] !='00']\n"
     ]
    }
   ],
   "source": [
    "_df_ampur = df_custom_ccaatt[df_custom_ccaatt['tt'] =='00']\n",
    "df_ampur = _df_ampur[df_custom_ccaatt['aa'] !='00']\n",
    "\n",
    "print(len(df_ampur), 'อำเภอ')\n",
    "print(df_ampur)"
   ]
  },
  {
   "cell_type": "markdown",
   "metadata": {},
   "source": [
    "export อำเภอ suppertype"
   ]
  },
  {
   "cell_type": "code",
   "execution_count": 15,
   "metadata": {},
   "outputs": [
    {
     "name": "stdout",
     "output_type": "stream",
     "text": [
      "      geo_id  geo_code        name_en     name_th abbreviation  type_id\n",
      "1       1496  10010000    Phra Nakhon   เขตพระนคร            -        5\n",
      "14      1497  10020000          Dusit    เขตดุสิต            -        5\n",
      "20      1498  10030000      Nong Chok  เขตหนองจอก            -        5\n",
      "29      1499  10040000       Bang Rak   เขตบางรัก            -        5\n",
      "35      1500  10050000      Bang Khen   เขตบางเขน            -        5\n",
      "...      ...       ...            ...         ...          ...      ...\n",
      "8414    2419  96090000       Sukhirin     สุคิริน            -        5\n",
      "8420    2420  96100000  Su-ngai Kolok  สุไหงโก-ลก            -        5\n",
      "8425    2421  96110000   Su-ngai Padi   สุไหงปาดี            -        5\n",
      "8432    2422  96120000         Chanae       จะแนะ            -        5\n",
      "8437    2423  96130000     Cho-airong  เจาะไอร้อง            -        5\n",
      "\n",
      "[928 rows x 6 columns]\n"
     ]
    }
   ],
   "source": [
    "df_aumpur_suppertype = pd.DataFrame({\n",
    "    'geo_id': range(1496, len(df_ampur) + 1496),\n",
    "    'geo_code': df_ampur['code'].astype(str),\n",
    "    'name_en': df_ampur['nameEn'],\n",
    "    'name_th': df_ampur['nameTh'],\n",
    "    'abbreviation': '-',\n",
    "    'type_id': 5,\n",
    "})\n",
    "print(df_aumpur_suppertype)"
   ]
  },
  {
   "cell_type": "markdown",
   "metadata": {},
   "source": [
    "export county suppertype"
   ]
  },
  {
   "cell_type": "code",
   "execution_count": 17,
   "metadata": {},
   "outputs": [],
   "source": [
    "df_aumpur_suppertype.to_csv('./dist/county_suppertype_en_th.csv', index=False)"
   ]
  },
  {
   "cell_type": "markdown",
   "metadata": {},
   "source": [
    "อำเภอ county subtype ใช้ตัวเดิมได้เลย เพราะถูกต้องอยู่เเล้ว"
   ]
  }
 ],
 "metadata": {
  "kernelspec": {
   "display_name": "Python 3",
   "language": "python",
   "name": "python3"
  },
  "language_info": {
   "codemirror_mode": {
    "name": "ipython",
    "version": 3
   },
   "file_extension": ".py",
   "mimetype": "text/x-python",
   "name": "python",
   "nbconvert_exporter": "python",
   "pygments_lexer": "ipython3",
   "version": "3.11.7"
  }
 },
 "nbformat": 4,
 "nbformat_minor": 2
}
