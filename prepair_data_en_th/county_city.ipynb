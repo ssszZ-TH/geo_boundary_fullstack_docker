{
 "cells": [
  {
   "cell_type": "code",
   "execution_count": 1,
   "metadata": {},
   "outputs": [],
   "source": [
    "import pandas as pd"
   ]
  },
  {
   "cell_type": "code",
   "execution_count": 2,
   "metadata": {},
   "outputs": [
    {
     "name": "stdout",
     "output_type": "stream",
     "text": [
      "      Unnamed: 0      code           nameTh                      nameEn  cc  \\\n",
      "0              0  10000000    กรุงเทพมหานคร                     Bangkok  10   \n",
      "1              1  10010000        เขตพระนคร                 Phra Nakhon  10   \n",
      "2              2  10010100  พระบรมมหาราชวัง  Phra Borom Maha Ratchawang  10   \n",
      "3              3  10010200   วังบูรพาภิรมย์         Wang Burapha Phirom  10   \n",
      "4              4  10010300       วัดราชบพิธ            Wat Ratchabophit  10   \n",
      "...          ...       ...              ...                         ...  ..   \n",
      "8436       10018  96120400        ช้างเผือก                Chang Phueak  96   \n",
      "8437       10019  96130000       เจาะไอร้อง                  Cho-airong  96   \n",
      "8438       10020  96130100              จวบ                       Chuap  96   \n",
      "8439       10021  96130200            บูกิต                       Bukit  96   \n",
      "8440       10022  96130300       มะรือโบออก                  Maruebo Ok  96   \n",
      "\n",
      "      aa  tt  \n",
      "0     00  00  \n",
      "1     01  00  \n",
      "2     01  01  \n",
      "3     01  02  \n",
      "4     01  03  \n",
      "...   ..  ..  \n",
      "8436  12  04  \n",
      "8437  13  00  \n",
      "8438  13  01  \n",
      "8439  13  02  \n",
      "8440  13  03  \n",
      "\n",
      "[8441 rows x 7 columns]\n"
     ]
    }
   ],
   "source": [
    "df1 = pd.read_csv('./dist/code_name_en_th_ccaatt.csv',dtype={'cc': str, 'aa': str, 'tt': str})\n",
    "print(df1)"
   ]
  },
  {
   "cell_type": "markdown",
   "metadata": {},
   "source": [
    "county_city mean ตำบล type id = 12 , geo_id start 2425"
   ]
  },
  {
   "cell_type": "markdown",
   "metadata": {},
   "source": [
    "# extract อำเภอ"
   ]
  },
  {
   "cell_type": "code",
   "execution_count": 3,
   "metadata": {},
   "outputs": [
    {
     "name": "stdout",
     "output_type": "stream",
     "text": [
      "928\n",
      "      Unnamed: 0      code      nameTh         nameEn  cc  aa  tt\n",
      "1              1  10010000   เขตพระนคร    Phra Nakhon  10  01  00\n",
      "14            14  10020000    เขตดุสิต          Dusit  10  02  00\n",
      "20            22  10030000  เขตหนองจอก      Nong Chok  10  03  00\n",
      "29            31  10040000   เขตบางรัก       Bang Rak  10  04  00\n",
      "35            37  10050000   เขตบางเขน      Bang Khen  10  05  00\n",
      "...          ...       ...         ...            ...  ..  ..  ..\n",
      "8414        9996  96090000     สุคิริน       Sukhirin  96  09  00\n",
      "8420       10002  96100000  สุไหงโก-ลก  Su-ngai Kolok  96  10  00\n",
      "8425       10007  96110000   สุไหงปาดี   Su-ngai Padi  96  11  00\n",
      "8432       10014  96120000       จะแนะ         Chanae  96  12  00\n",
      "8437       10019  96130000  เจาะไอร้อง     Cho-airong  96  13  00\n",
      "\n",
      "[928 rows x 7 columns]\n"
     ]
    },
    {
     "name": "stderr",
     "output_type": "stream",
     "text": [
      "C:\\Users\\ssszz\\AppData\\Local\\Temp\\ipykernel_2900\\1986822777.py:2: UserWarning: Boolean Series key will be reindexed to match DataFrame index.\n",
      "  df_ampur = _df_ampur[df1['aa'] !='00']\n"
     ]
    }
   ],
   "source": [
    "_df_ampur = df1[df1['tt'] =='00']\n",
    "df_ampur = _df_ampur[df1['aa'] !='00']\n",
    "\n",
    "print(len(df_ampur))\n",
    "print(df_ampur)"
   ]
  },
  {
   "cell_type": "markdown",
   "metadata": {},
   "source": [
    "# extract ตำบล"
   ]
  },
  {
   "cell_type": "code",
   "execution_count": 4,
   "metadata": {},
   "outputs": [
    {
     "name": "stdout",
     "output_type": "stream",
     "text": [
      "7436\n",
      "      Unnamed: 0      code           nameTh                      nameEn  cc  \\\n",
      "2              2  10010100  พระบรมมหาราชวัง  Phra Borom Maha Ratchawang  10   \n",
      "3              3  10010200   วังบูรพาภิรมย์         Wang Burapha Phirom  10   \n",
      "4              4  10010300       วัดราชบพิธ            Wat Ratchabophit  10   \n",
      "5              5  10010400      สำราญราษฎร์                  Samran Rat  10   \n",
      "6              6  10010500   ศาลเจ้าพ่อเสือ           San Chao Pho Suea  10   \n",
      "...          ...       ...              ...                         ...  ..   \n",
      "8435       10017  96120300         ผดุงมาตร                 Phadung Mat  96   \n",
      "8436       10018  96120400        ช้างเผือก                Chang Phueak  96   \n",
      "8438       10020  96130100              จวบ                       Chuap  96   \n",
      "8439       10021  96130200            บูกิต                       Bukit  96   \n",
      "8440       10022  96130300       มะรือโบออก                  Maruebo Ok  96   \n",
      "\n",
      "      aa  tt  \n",
      "2     01  01  \n",
      "3     01  02  \n",
      "4     01  03  \n",
      "5     01  04  \n",
      "6     01  05  \n",
      "...   ..  ..  \n",
      "8435  12  03  \n",
      "8436  12  04  \n",
      "8438  13  01  \n",
      "8439  13  02  \n",
      "8440  13  03  \n",
      "\n",
      "[7436 rows x 7 columns]\n"
     ]
    }
   ],
   "source": [
    "df_tumbon = df1[df1['tt'] !='00']\n",
    "\n",
    "print(len(df_tumbon))\n",
    "print(df_tumbon)"
   ]
  },
  {
   "cell_type": "code",
   "execution_count": 5,
   "metadata": {},
   "outputs": [
    {
     "name": "stdout",
     "output_type": "stream",
     "text": [
      "      geo_id  geo_code                     name_en          name_th  \\\n",
      "2       2425  10010100  Phra Borom Maha Ratchawang  พระบรมมหาราชวัง   \n",
      "3       2426  10010200         Wang Burapha Phirom   วังบูรพาภิรมย์   \n",
      "4       2427  10010300            Wat Ratchabophit       วัดราชบพิธ   \n",
      "5       2428  10010400                  Samran Rat      สำราญราษฎร์   \n",
      "6       2429  10010500           San Chao Pho Suea   ศาลเจ้าพ่อเสือ   \n",
      "...      ...       ...                         ...              ...   \n",
      "8435    9856  96120300                 Phadung Mat         ผดุงมาตร   \n",
      "8436    9857  96120400                Chang Phueak        ช้างเผือก   \n",
      "8438    9858  96130100                       Chuap              จวบ   \n",
      "8439    9859  96130200                       Bukit            บูกิต   \n",
      "8440    9860  96130300                  Maruebo Ok       มะรือโบออก   \n",
      "\n",
      "     abbreviation  type_id  \n",
      "2        10010100       12  \n",
      "3        10010200       12  \n",
      "4        10010300       12  \n",
      "5        10010400       12  \n",
      "6        10010500       12  \n",
      "...           ...      ...  \n",
      "8435     96120300       12  \n",
      "8436     96120400       12  \n",
      "8438     96130100       12  \n",
      "8439     96130200       12  \n",
      "8440     96130300       12  \n",
      "\n",
      "[7436 rows x 6 columns]\n"
     ]
    }
   ],
   "source": [
    "df_tumbon_2 = pd.DataFrame({\n",
    "    'geo_id': range(2425, len(df_tumbon) + 2425),\n",
    "    'geo_code': df_tumbon['code'].astype(str),\n",
    "    'name_en': df_tumbon['nameEn'],\n",
    "    'name_th': df_tumbon['nameTh'],\n",
    "    'abbreviation': df_tumbon['code'].astype(str),\n",
    "    'type_id': 12\n",
    "})\n",
    "\n",
    "print(df_tumbon_2)"
   ]
  },
  {
   "cell_type": "markdown",
   "metadata": {},
   "source": [
    "export suppertype"
   ]
  },
  {
   "cell_type": "code",
   "execution_count": 6,
   "metadata": {},
   "outputs": [],
   "source": [
    "df_tumbon_2.to_csv('./dist/county_city_suppertype_en_th.csv',index=False)"
   ]
  },
  {
   "cell_type": "markdown",
   "metadata": {},
   "source": [
    "make subtype\n",
    "\n",
    "everything in city_id=2424\n",
    "\n"
   ]
  },
  {
   "cell_type": "markdown",
   "metadata": {},
   "source": [
    "# ใช้เทคนิค เอา จังหวั&อำเภอ ที่ ตำลบมีร่วมกับอำเภอในการ join"
   ]
  },
  {
   "cell_type": "markdown",
   "metadata": {},
   "source": [
    "step 1 ทำไงก็ได้ ให้มี geo_id code ของ county"
   ]
  },
  {
   "cell_type": "code",
   "execution_count": 7,
   "metadata": {},
   "outputs": [
    {
     "name": "stdout",
     "output_type": "stream",
     "text": [
      "      geo_id  geo_code                     name_en          name_th  \\\n",
      "0       2425  10010100  Phra Borom Maha Ratchawang  พระบรมมหาราชวัง   \n",
      "1       2426  10010200         Wang Burapha Phirom   วังบูรพาภิรมย์   \n",
      "2       2427  10010300            Wat Ratchabophit       วัดราชบพิธ   \n",
      "3       2428  10010400                  Samran Rat      สำราญราษฎร์   \n",
      "4       2429  10010500           San Chao Pho Suea   ศาลเจ้าพ่อเสือ   \n",
      "...      ...       ...                         ...              ...   \n",
      "7431    9856  96120300                 Phadung Mat         ผดุงมาตร   \n",
      "7432    9857  96120400                Chang Phueak        ช้างเผือก   \n",
      "7433    9858  96130100                       Chuap              จวบ   \n",
      "7434    9859  96130200                       Bukit            บูกิต   \n",
      "7435    9860  96130300                  Maruebo Ok       มะรือโบออก   \n",
      "\n",
      "      abbreviation  type_id  \n",
      "0         10010100       12  \n",
      "1         10010200       12  \n",
      "2         10010300       12  \n",
      "3         10010400       12  \n",
      "4         10010500       12  \n",
      "...            ...      ...  \n",
      "7431      96120300       12  \n",
      "7432      96120400       12  \n",
      "7433      96130100       12  \n",
      "7434      96130200       12  \n",
      "7435      96130300       12  \n",
      "\n",
      "[7436 rows x 6 columns]\n"
     ]
    }
   ],
   "source": [
    "df_county_city_suppertype = pd.read_csv('./dist/county_city_suppertype_en_th.csv')\n",
    "print(df_county_city_suppertype)"
   ]
  },
  {
   "cell_type": "markdown",
   "metadata": {},
   "source": [
    "step 2 extract เอาเเต่ digit ccaa ออกมา"
   ]
  },
  {
   "cell_type": "code",
   "execution_count": 22,
   "metadata": {},
   "outputs": [
    {
     "name": "stdout",
     "output_type": "stream",
     "text": [
      "      geo_id  geo_code                     name_en          name_th  \\\n",
      "0       2425  10010100  Phra Borom Maha Ratchawang  พระบรมมหาราชวัง   \n",
      "1       2426  10010200         Wang Burapha Phirom   วังบูรพาภิรมย์   \n",
      "2       2427  10010300            Wat Ratchabophit       วัดราชบพิธ   \n",
      "3       2428  10010400                  Samran Rat      สำราญราษฎร์   \n",
      "4       2429  10010500           San Chao Pho Suea   ศาลเจ้าพ่อเสือ   \n",
      "...      ...       ...                         ...              ...   \n",
      "7431    9856  96120300                 Phadung Mat         ผดุงมาตร   \n",
      "7432    9857  96120400                Chang Phueak        ช้างเผือก   \n",
      "7433    9858  96130100                       Chuap              จวบ   \n",
      "7434    9859  96130200                       Bukit            บูกิต   \n",
      "7435    9860  96130300                  Maruebo Ok       มะรือโบออก   \n",
      "\n",
      "      abbreviation  type_id  ccaa  \n",
      "0         10010100       12  1001  \n",
      "1         10010200       12  1001  \n",
      "2         10010300       12  1001  \n",
      "3         10010400       12  1001  \n",
      "4         10010500       12  1001  \n",
      "...            ...      ...   ...  \n",
      "7431      96120300       12  9612  \n",
      "7432      96120400       12  9612  \n",
      "7433      96130100       12  9613  \n",
      "7434      96130200       12  9613  \n",
      "7435      96130300       12  9613  \n",
      "\n",
      "[7436 rows x 7 columns]\n"
     ]
    }
   ],
   "source": [
    "df_county_city_suppertype_2 = pd.DataFrame({\n",
    "    'geo_id': df_county_city_suppertype['geo_id'],\n",
    "    'geo_code': df_county_city_suppertype['geo_code'],\n",
    "    'name_en': df_county_city_suppertype['name_en'],\n",
    "    'name_th': df_county_city_suppertype['name_th'],\n",
    "    'abbreviation': df_county_city_suppertype['abbreviation'],\n",
    "    'type_id': df_county_city_suppertype['type_id'],\n",
    "    'ccaa': df_county_city_suppertype['geo_code'].astype(str).str[0:4] ## live inside aumpur\n",
    "})\n",
    "\n",
    "print(df_county_city_suppertype_2)"
   ]
  },
  {
   "cell_type": "markdown",
   "metadata": {},
   "source": [
    "step 3 load county suppertype มา เพื่อเอา geo id มาใช้"
   ]
  },
  {
   "cell_type": "code",
   "execution_count": 18,
   "metadata": {},
   "outputs": [
    {
     "name": "stdout",
     "output_type": "stream",
     "text": [
      "     geo_id  geo_code           name_en     name_th abbreviation  type_id\n",
      "0      1496  10010000  Khet Phra Nakhon   เขตพระนคร            -        5\n",
      "1      1497  10020000        Khet Dusit    เขตดุสิต            -        5\n",
      "2      1498  10030000    Khet Nong Chok  เขตหนองจอก            -        5\n",
      "3      1499  10040000     Khet Bang Rak   เขตบางรัก            -        5\n",
      "4      1500  10050000    Khet Bang Khen   เขตบางเขน            -        5\n",
      "..      ...       ...               ...         ...          ...      ...\n",
      "943    2419  96090000          Sukhirin     สุคิริน            -        5\n",
      "944    2420  96100000     Su-ngai Kolok  สุไหงโก-ลก            -        5\n",
      "945    2421  96110000      Su-ngai Padi   สุไหงปาดี            -        5\n",
      "946    2422  96120000            Chanae       จะแนะ            -        5\n",
      "947    2423  96130000        Cho-airong  เจาะไอร้อง            -        5\n",
      "\n",
      "[948 rows x 6 columns]\n"
     ]
    }
   ],
   "source": [
    "df_county_syppertype = pd.read_csv('./dist/county_suppertype_en_th.csv')\n",
    "print(df_county_syppertype)"
   ]
  },
  {
   "cell_type": "markdown",
   "metadata": {},
   "source": [
    "extract aumper digit"
   ]
  },
  {
   "cell_type": "code",
   "execution_count": 19,
   "metadata": {},
   "outputs": [
    {
     "name": "stdout",
     "output_type": "stream",
     "text": [
      "     geo_id  geo_code           name_en     name_th abbreviation  type_id  \\\n",
      "0      1496  10010000  Khet Phra Nakhon   เขตพระนคร            -        5   \n",
      "1      1497  10020000        Khet Dusit    เขตดุสิต            -        5   \n",
      "2      1498  10030000    Khet Nong Chok  เขตหนองจอก            -        5   \n",
      "3      1499  10040000     Khet Bang Rak   เขตบางรัก            -        5   \n",
      "4      1500  10050000    Khet Bang Khen   เขตบางเขน            -        5   \n",
      "..      ...       ...               ...         ...          ...      ...   \n",
      "943    2419  96090000          Sukhirin     สุคิริน            -        5   \n",
      "944    2420  96100000     Su-ngai Kolok  สุไหงโก-ลก            -        5   \n",
      "945    2421  96110000      Su-ngai Padi   สุไหงปาดี            -        5   \n",
      "946    2422  96120000            Chanae       จะแนะ            -        5   \n",
      "947    2423  96130000        Cho-airong  เจาะไอร้อง            -        5   \n",
      "\n",
      "     ccaa  \n",
      "0    1001  \n",
      "1    1002  \n",
      "2    1003  \n",
      "3    1004  \n",
      "4    1005  \n",
      "..    ...  \n",
      "943  9609  \n",
      "944  9610  \n",
      "945  9611  \n",
      "946  9612  \n",
      "947  9613  \n",
      "\n",
      "[948 rows x 7 columns]\n"
     ]
    }
   ],
   "source": [
    "df_county_syppertype['ccaa'] = df_county_syppertype['geo_code'].astype(str).str[0:4]\n",
    "print(df_county_syppertype)"
   ]
  },
  {
   "cell_type": "markdown",
   "metadata": {},
   "source": [
    "step 4 merge table โดยใช้ ccaa"
   ]
  },
  {
   "cell_type": "code",
   "execution_count": 27,
   "metadata": {},
   "outputs": [
    {
     "name": "stdout",
     "output_type": "stream",
     "text": [
      "df_county_syppertype 948\n",
      "df_county_city_suppertype_2 7436\n",
      "df_county_syppertype_unique 928\n",
      "7436\n",
      "      geo_id_x  geo_code_x                   name_en_x        name_th_x  \\\n",
      "0         2425    10010100  Phra Borom Maha Ratchawang  พระบรมมหาราชวัง   \n",
      "1         2426    10010200         Wang Burapha Phirom   วังบูรพาภิรมย์   \n",
      "2         2427    10010300            Wat Ratchabophit       วัดราชบพิธ   \n",
      "3         2428    10010400                  Samran Rat      สำราญราษฎร์   \n",
      "4         2429    10010500           San Chao Pho Suea   ศาลเจ้าพ่อเสือ   \n",
      "...        ...         ...                         ...              ...   \n",
      "7431      9856    96120300                 Phadung Mat         ผดุงมาตร   \n",
      "7432      9857    96120400                Chang Phueak        ช้างเผือก   \n",
      "7433      9858    96130100                       Chuap              จวบ   \n",
      "7434      9859    96130200                       Bukit            บูกิต   \n",
      "7435      9860    96130300                  Maruebo Ok       มะรือโบออก   \n",
      "\n",
      "      abbreviation_x  type_id_x  ccaa  geo_id_y  geo_code_y         name_en_y  \\\n",
      "0           10010100         12  1001      1496    10010000  Khet Phra Nakhon   \n",
      "1           10010200         12  1001      1496    10010000  Khet Phra Nakhon   \n",
      "2           10010300         12  1001      1496    10010000  Khet Phra Nakhon   \n",
      "3           10010400         12  1001      1496    10010000  Khet Phra Nakhon   \n",
      "4           10010500         12  1001      1496    10010000  Khet Phra Nakhon   \n",
      "...              ...        ...   ...       ...         ...               ...   \n",
      "7431        96120300         12  9612      2422    96120000            Chanae   \n",
      "7432        96120400         12  9612      2422    96120000            Chanae   \n",
      "7433        96130100         12  9613      2423    96130000        Cho-airong   \n",
      "7434        96130200         12  9613      2423    96130000        Cho-airong   \n",
      "7435        96130300         12  9613      2423    96130000        Cho-airong   \n",
      "\n",
      "       name_th_y abbreviation_y  type_id_y  \n",
      "0      เขตพระนคร              -          5  \n",
      "1      เขตพระนคร              -          5  \n",
      "2      เขตพระนคร              -          5  \n",
      "3      เขตพระนคร              -          5  \n",
      "4      เขตพระนคร              -          5  \n",
      "...          ...            ...        ...  \n",
      "7431       จะแนะ              -          5  \n",
      "7432       จะแนะ              -          5  \n",
      "7433  เจาะไอร้อง              -          5  \n",
      "7434  เจาะไอร้อง              -          5  \n",
      "7435  เจาะไอร้อง              -          5  \n",
      "\n",
      "[7436 rows x 13 columns]\n"
     ]
    }
   ],
   "source": [
    "# เลือกเฉพาะข้อมูลที่ไม่ซ้ำกันจาก df_county_syppertype\n",
    "df_county_syppertype_unique = df_county_syppertype.drop_duplicates(subset=['ccaa'])\n",
    "\n",
    "print('df_county_syppertype',len(df_county_syppertype))\n",
    "print('df_county_city_suppertype_2',len(df_county_city_suppertype_2))\n",
    "print('df_county_syppertype_unique',len(df_county_syppertype_unique))\n",
    "\n",
    "# ทำการ merge ใหม่\n",
    "subtype_merged = pd.merge(\n",
    "    df_county_city_suppertype_2,\n",
    "    df_county_syppertype_unique,\n",
    "    how='left',  # ใช้ left join\n",
    "    on='ccaa'\n",
    ")\n",
    "\n",
    "# ตรวจสอบจำนวนแถว\n",
    "print(len(subtype_merged))  # ควรได้ 7436 แถวเท่ากับ df_county_city_suppertype_2\n",
    "print(subtype_merged)"
   ]
  },
  {
   "cell_type": "markdown",
   "metadata": {},
   "source": [
    "step 5 ดึงเอาเเต่ตัวที่จะใส่ใน subtype"
   ]
  }
 ],
 "metadata": {
  "kernelspec": {
   "display_name": "Python 3",
   "language": "python",
   "name": "python3"
  },
  "language_info": {
   "codemirror_mode": {
    "name": "ipython",
    "version": 3
   },
   "file_extension": ".py",
   "mimetype": "text/x-python",
   "name": "python",
   "nbconvert_exporter": "python",
   "pygments_lexer": "ipython3",
   "version": "3.11.7"
  }
 },
 "nbformat": 4,
 "nbformat_minor": 2
}
