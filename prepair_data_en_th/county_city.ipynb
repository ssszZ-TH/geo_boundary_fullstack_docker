{
 "cells": [
  {
   "cell_type": "code",
   "execution_count": 1,
   "metadata": {},
   "outputs": [],
   "source": [
    "import pandas as pd"
   ]
  },
  {
   "cell_type": "code",
   "execution_count": 2,
   "metadata": {},
   "outputs": [
    {
     "name": "stdout",
     "output_type": "stream",
     "text": [
      "      Unnamed: 0      code           nameTh                      nameEn  cc  \\\n",
      "0              0  10000000    กรุงเทพมหานคร                     Bangkok  10   \n",
      "1              1  10010000        เขตพระนคร                 Phra Nakhon  10   \n",
      "2              2  10010100  พระบรมมหาราชวัง  Phra Borom Maha Ratchawang  10   \n",
      "3              3  10010200   วังบูรพาภิรมย์         Wang Burapha Phirom  10   \n",
      "4              4  10010300       วัดราชบพิธ            Wat Ratchabophit  10   \n",
      "...          ...       ...              ...                         ...  ..   \n",
      "8436       10018  96120400        ช้างเผือก                Chang Phueak  96   \n",
      "8437       10019  96130000       เจาะไอร้อง                  Cho-airong  96   \n",
      "8438       10020  96130100              จวบ                       Chuap  96   \n",
      "8439       10021  96130200            บูกิต                       Bukit  96   \n",
      "8440       10022  96130300       มะรือโบออก                  Maruebo Ok  96   \n",
      "\n",
      "      aa  tt  \n",
      "0      0   0  \n",
      "1      1   0  \n",
      "2      1   1  \n",
      "3      1   2  \n",
      "4      1   3  \n",
      "...   ..  ..  \n",
      "8436  12   4  \n",
      "8437  13   0  \n",
      "8438  13   1  \n",
      "8439  13   2  \n",
      "8440  13   3  \n",
      "\n",
      "[8441 rows x 7 columns]\n"
     ]
    }
   ],
   "source": [
    "df1 = pd.read_csv('./dist/code_name_en_th_ccaatt.csv')\n",
    "print(df1)"
   ]
  },
  {
   "cell_type": "code",
   "execution_count": null,
   "metadata": {},
   "outputs": [],
   "source": []
  }
 ],
 "metadata": {
  "kernelspec": {
   "display_name": "Python 3",
   "language": "python",
   "name": "python3"
  },
  "language_info": {
   "codemirror_mode": {
    "name": "ipython",
    "version": 3
   },
   "file_extension": ".py",
   "mimetype": "text/x-python",
   "name": "python",
   "nbconvert_exporter": "python",
   "pygments_lexer": "ipython3",
   "version": "3.11.7"
  }
 },
 "nbformat": 4,
 "nbformat_minor": 2
}
