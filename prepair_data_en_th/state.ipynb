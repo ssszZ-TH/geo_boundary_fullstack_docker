{
 "cells": [
  {
   "cell_type": "code",
   "execution_count": 1,
   "metadata": {},
   "outputs": [],
   "source": [
    "import pandas as pd"
   ]
  },
  {
   "cell_type": "code",
   "execution_count": 2,
   "metadata": {},
   "outputs": [
    {
     "name": "stdout",
     "output_type": "stream",
     "text": [
      "    geo_id           geo_code             name abbreviation  type_id\n",
      "0     1419  state-TH-10000000    กรุงเทพมหานคร          BKK        3\n",
      "1     1420  state-TH-11000000      สมุทรปราการ          SPK        3\n",
      "2     1421  state-TH-12000000          นนทบุรี          NBI        3\n",
      "3     1422  state-TH-13000000         ปทุมธานี          PTE        3\n",
      "4     1423  state-TH-14000000  พระนครศรีอยุธยา          AYA        3\n",
      "..     ...                ...              ...          ...      ...\n",
      "72    1491  state-TH-92000000             ตรัง          TRG        3\n",
      "73    1492  state-TH-93000000           พัทลุง          PLG        3\n",
      "74    1493  state-TH-94000000          ปัตตานี          PTN        3\n",
      "75    1494  state-TH-95000000             ยะลา          YLA        3\n",
      "76    1495  state-TH-96000000         นราธิวาส          NWT        3\n",
      "\n",
      "[77 rows x 5 columns]\n"
     ]
    }
   ],
   "source": [
    "df1 = pd.read_csv('./old_data/state_suppertype.csv',keep_default_na=False, na_values=[''])\n",
    "print(df1)"
   ]
  },
  {
   "cell_type": "code",
   "execution_count": 3,
   "metadata": {},
   "outputs": [
    {
     "name": "stdout",
     "output_type": "stream",
     "text": [
      "    id          name_th                   name_en  geography_id  \\\n",
      "0    1    กรุงเทพมหานคร                   Bangkok             2   \n",
      "1    2      สมุทรปราการ              Samut Prakan             2   \n",
      "2    3          นนทบุรี                Nonthaburi             2   \n",
      "3    4         ปทุมธานี              Pathum Thani             2   \n",
      "4    5  พระนครศรีอยุธยา  Phra Nakhon Si Ayutthaya             2   \n",
      "..  ..              ...                       ...           ...   \n",
      "72  73           พัทลุง               Phatthalung             6   \n",
      "73  74          ปัตตานี                   Pattani             6   \n",
      "74  75             ยะลา                      Yala             6   \n",
      "75  76         นราธิวาส                Narathiwat             6   \n",
      "76  77           บึงกาฬ                   buogkan             3   \n",
      "\n",
      "           created_at          updated_at  deleted_at  \n",
      "0   9/8/2019 03:33:09  16/5/2022 06:31:03         NaN  \n",
      "1   9/8/2019 03:33:09  16/5/2022 06:31:03         NaN  \n",
      "2   9/8/2019 03:33:09  16/5/2022 06:31:03         NaN  \n",
      "3   9/8/2019 03:33:09  16/5/2022 06:31:03         NaN  \n",
      "4   9/8/2019 03:33:09  16/5/2022 06:31:03         NaN  \n",
      "..                ...                 ...         ...  \n",
      "72  9/8/2019 03:33:09  16/5/2022 06:31:03         NaN  \n",
      "73  9/8/2019 03:33:09  16/5/2022 06:31:03         NaN  \n",
      "74  9/8/2019 03:33:09  16/5/2022 06:31:03         NaN  \n",
      "75  9/8/2019 03:33:09  16/5/2022 06:31:03         NaN  \n",
      "76  9/8/2019 03:33:09  16/5/2022 06:31:03         NaN  \n",
      "\n",
      "[77 rows x 7 columns]\n"
     ]
    }
   ],
   "source": [
    "df2 = pd.read_csv('./from_github/thai_provinces.csv')\n",
    "print(df2)"
   ]
  },
  {
   "cell_type": "code",
   "execution_count": 12,
   "metadata": {},
   "outputs": [
    {
     "name": "stdout",
     "output_type": "stream",
     "text": [
      "   geo_id           geo_code             name abbreviation  type_id  id  \\\n",
      "0    1419  state-TH-10000000    กรุงเทพมหานคร          BKK        3   1   \n",
      "1    1420  state-TH-11000000      สมุทรปราการ          SPK        3   2   \n",
      "2    1421  state-TH-12000000          นนทบุรี          NBI        3   3   \n",
      "3    1422  state-TH-13000000         ปทุมธานี          PTE        3   4   \n",
      "4    1423  state-TH-14000000  พระนครศรีอยุธยา          AYA        3   5   \n",
      "\n",
      "           name_th                   name_en  geography_id         created_at  \\\n",
      "0    กรุงเทพมหานคร                   Bangkok             2  9/8/2019 03:33:09   \n",
      "1      สมุทรปราการ              Samut Prakan             2  9/8/2019 03:33:09   \n",
      "2          นนทบุรี                Nonthaburi             2  9/8/2019 03:33:09   \n",
      "3         ปทุมธานี              Pathum Thani             2  9/8/2019 03:33:09   \n",
      "4  พระนครศรีอยุธยา  Phra Nakhon Si Ayutthaya             2  9/8/2019 03:33:09   \n",
      "\n",
      "           updated_at  deleted_at  \n",
      "0  16/5/2022 06:31:03         NaN  \n",
      "1  16/5/2022 06:31:03         NaN  \n",
      "2  16/5/2022 06:31:03         NaN  \n",
      "3  16/5/2022 06:31:03         NaN  \n",
      "4  16/5/2022 06:31:03         NaN  \n",
      "geo_id          77\n",
      "geo_code        77\n",
      "name            77\n",
      "abbreviation    77\n",
      "type_id         77\n",
      "id              77\n",
      "name_th         77\n",
      "name_en         77\n",
      "geography_id    77\n",
      "created_at      77\n",
      "updated_at      77\n",
      "deleted_at       0\n",
      "dtype: int64\n",
      "Index(['geo_id', 'geo_code', 'name', 'abbreviation', 'type_id', 'id',\n",
      "       'name_th', 'name_en', 'geography_id', 'created_at', 'updated_at',\n",
      "       'deleted_at'],\n",
      "      dtype='object')\n"
     ]
    }
   ],
   "source": [
    "df3 = pd.merge(\n",
    "    df1,\n",
    "    df2,\n",
    "    left_on='name',\n",
    "    right_on='name_th',\n",
    "    how='inner'\n",
    ")\n",
    "print(df3.head())\n",
    "print(df3.count())\n",
    "print(df3.columns)"
   ]
  },
  {
   "cell_type": "code",
   "execution_count": 14,
   "metadata": {},
   "outputs": [
    {
     "name": "stdout",
     "output_type": "stream",
     "text": [
      "    geo_id           geo_code                   name_en          name_th  \\\n",
      "0     1419  state-TH-10000000                   Bangkok    กรุงเทพมหานคร   \n",
      "1     1420  state-TH-11000000              Samut Prakan      สมุทรปราการ   \n",
      "2     1421  state-TH-12000000                Nonthaburi          นนทบุรี   \n",
      "3     1422  state-TH-13000000              Pathum Thani         ปทุมธานี   \n",
      "4     1423  state-TH-14000000  Phra Nakhon Si Ayutthaya  พระนครศรีอยุธยา   \n",
      "..     ...                ...                       ...              ...   \n",
      "72    1491  state-TH-92000000                     Trang             ตรัง   \n",
      "73    1492  state-TH-93000000               Phatthalung           พัทลุง   \n",
      "74    1493  state-TH-94000000                   Pattani          ปัตตานี   \n",
      "75    1494  state-TH-95000000                      Yala             ยะลา   \n",
      "76    1495  state-TH-96000000                Narathiwat         นราธิวาส   \n",
      "\n",
      "   abbreviation  type_id  \n",
      "0           BKK        3  \n",
      "1           SPK        3  \n",
      "2           NBI        3  \n",
      "3           PTE        3  \n",
      "4           AYA        3  \n",
      "..          ...      ...  \n",
      "72          TRG        3  \n",
      "73          PLG        3  \n",
      "74          PTN        3  \n",
      "75          YLA        3  \n",
      "76          NWT        3  \n",
      "\n",
      "[77 rows x 6 columns]\n"
     ]
    }
   ],
   "source": [
    "df4 = pd.DataFrame({\n",
    "    'geo_id': df3['geo_id'],\n",
    "    'geo_code': df3['geo_code'],\n",
    "    'name_en': df3['name_en'],\n",
    "    'name_th': df3['name_th'],\n",
    "    'abbreviation': df3['abbreviation'],\n",
    "    'type_id': df3['type_id']\n",
    "})\n",
    "print(df4)"
   ]
  },
  {
   "cell_type": "code",
   "execution_count": 16,
   "metadata": {},
   "outputs": [],
   "source": [
    "df4.to_csv('./dist/state_suppertype_en_th.csv', index=False)"
   ]
  }
 ],
 "metadata": {
  "kernelspec": {
   "display_name": "Python 3",
   "language": "python",
   "name": "python3"
  },
  "language_info": {
   "codemirror_mode": {
    "name": "ipython",
    "version": 3
   },
   "file_extension": ".py",
   "mimetype": "text/x-python",
   "name": "python",
   "nbconvert_exporter": "python",
   "pygments_lexer": "ipython3",
   "version": "3.11.7"
  }
 },
 "nbformat": 4,
 "nbformat_minor": 2
}
