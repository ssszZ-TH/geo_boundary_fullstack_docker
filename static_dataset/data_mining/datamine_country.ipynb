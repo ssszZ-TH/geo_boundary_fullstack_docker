{
 "cells": [
  {
   "cell_type": "markdown",
   "metadata": {},
   "source": [
    "เริ่มจากการโหลดข้อมูล เเล้วเเปลงเป็น dataframe"
   ]
  },
  {
   "cell_type": "code",
   "execution_count": 2,
   "metadata": {},
   "outputs": [],
   "source": [
    "# # Import libraries\n",
    "# import pandas as pd\n",
    "\n",
    "# # ระบุ path ของไฟล์ Excel ที่ต้องการอ่าน\n",
    "# file_path = './ccaatt.xlsx'\n",
    "\n",
    "# # อ่านไฟล์ Excel เป็น DataFrame\n",
    "# df = pd.read_excel(file_path)\n",
    "\n",
    "# # ตรวจสอบข้อมูลใน DataFrame (แสดง 5 แถวแรก)\n",
    "# print(df.head())\n",
    "\n",
    "# # บันทึก DataFrame เป็นไฟล์ CSV\n",
    "# output_csv_path = './raw_ccaatt.csv'\n",
    "# df.to_csv(output_csv_path, index=False)\n",
    "\n",
    "# print(f\"บันทึกไฟล์ CSV เรียบร้อยแล้วที่: {output_csv_path}\")\n"
   ]
  },
  {
   "cell_type": "code",
   "execution_count": 3,
   "metadata": {},
   "outputs": [],
   "source": [
    "# # Import libraries\n",
    "# import pandas as pd\n",
    "\n",
    "# # ระบุ path ของไฟล์ Excel ที่ต้องการอ่าน\n",
    "# file_path = './rcode.xlsx'\n",
    "\n",
    "# # อ่านไฟล์ Excel เป็น DataFrame\n",
    "# df = pd.read_excel(file_path)\n",
    "\n",
    "# # ตรวจสอบข้อมูลใน DataFrame (แสดง 5 แถวแรก)\n",
    "# print(df.head())\n",
    "\n",
    "# # บันทึก DataFrame เป็นไฟล์ CSV\n",
    "# output_csv_path = './rcode.csv'\n",
    "# df.to_csv(output_csv_path, index=False)\n",
    "\n",
    "# print(f\"บันทึกไฟล์ CSV เรียบร้อยแล้วที่: {output_csv_path}\")"
   ]
  },
  {
   "cell_type": "markdown",
   "metadata": {},
   "source": [
    "TBCCAA-KEY\tPK\n",
    "\n",
    "-TBC-CC\t2\t2\tN\t\tCHANGWAT (จังหวัด)\n",
    "\n",
    "-TBC-AA\t2\t2\tN\t\tAMPUR (อำเภอ)\n",
    "\n",
    "-TBC-TT\t2\t2\tN\t\tTAMBOON (ตำบล)\n",
    "\n",
    "-TBC-MM\t2\t2\tN\t\tMOO BARN (หมู่บ้าน)\n",
    "\n",
    "TBC-DESC\t40\t40\tAN\t\tDESCRIPTION (คำอธิบาย)\n",
    "\n",
    "2 digit คือ จังหวัด\n",
    "2 digit คือ เขต/อำเภอ\n",
    "2 digit คือ เเขวง/ตำบล\n",
    "\n",
    "อย่างเช่นของบ้านผม จังหวัด กรุงเทพ เขตลาดพร้าว เเขวงจรเข้บัว\n",
    "\n",
    "โยงกับ datamodel \n",
    "จังหวัด คือ state\n",
    "county คือ เขต/อำเภอ\n",
    "city คือเทศบาล\n",
    "countycity คือ ตำบล\n",
    "\n",
    "หมายเหตุ :\n",
    "1. ข้อมูลขณะนี้เป็นข้อมูลในระดับจังหวัด อำเภอ ตำบล\n",
    "2. รายการรหัสข้อมูลใดที่มีเครื่องหมาย * หมายถึง รหัสนี้ถูกยกเลิก"
   ]
  },
  {
   "cell_type": "code",
   "execution_count": 4,
   "metadata": {},
   "outputs": [
    {
     "name": "stdout",
     "output_type": "stream",
     "text": [
      "       code           nameTh                     nameEng  transferdate\n",
      "0  10000000    กรุงเทพมหานคร                     Bangkok             0\n",
      "1  10010000        เขตพระนคร                 Phra Nakhon             0\n",
      "2  10010100  พระบรมมหาราชวัง  Phra Borom Maha Ratchawang             0\n",
      "3  10010200   วังบูรพาภิรมย์         Wang Burapha Phirom             0\n",
      "4  10010300       วัดราชบพิธ            Wat Ratchabophit             0\n"
     ]
    }
   ],
   "source": [
    "# Import libraries\n",
    "import pandas as pd\n",
    "\n",
    "# ระบุ path ของไฟล์ Excel ที่ต้องการอ่าน\n",
    "file_path = './ccaatt.csv'\n",
    "\n",
    "# อ่านไฟล์ Excel เป็น DataFrame\n",
    "df = pd.read_csv(file_path)\n",
    "\n",
    "# ตรวจสอบข้อมูลใน DataFrame (แสดง 5 แถวแรก)\n",
    "print(df.head())\n"
   ]
  },
  {
   "cell_type": "code",
   "execution_count": 5,
   "metadata": {},
   "outputs": [
    {
     "name": "stdout",
     "output_type": "stream",
     "text": [
      "       code           nameTh\n",
      "0  10000000    กรุงเทพมหานคร\n",
      "1  10010000        เขตพระนคร\n",
      "2  10010100  พระบรมมหาราชวัง\n",
      "3  10010200   วังบูรพาภิรมย์\n",
      "4  10010300       วัดราชบพิธ\n"
     ]
    }
   ],
   "source": [
    "## drop column\n",
    "df.drop(['transferdate','nameEng'], axis=1, inplace=True)\n",
    "print(df.head())"
   ]
  },
  {
   "cell_type": "code",
   "execution_count": 6,
   "metadata": {},
   "outputs": [
    {
     "name": "stdout",
     "output_type": "stream",
     "text": [
      "<class 'pandas.core.frame.DataFrame'>\n",
      "RangeIndex: 10025 entries, 0 to 10024\n",
      "Data columns (total 2 columns):\n",
      " #   Column  Non-Null Count  Dtype \n",
      "---  ------  --------------  ----- \n",
      " 0   code    10025 non-null  int64 \n",
      " 1   nameTh  10025 non-null  object\n",
      "dtypes: int64(1), object(1)\n",
      "memory usage: 156.8+ KB\n"
     ]
    }
   ],
   "source": [
    "df.info()"
   ]
  },
  {
   "cell_type": "code",
   "execution_count": 7,
   "metadata": {},
   "outputs": [
    {
     "name": "stdout",
     "output_type": "stream",
     "text": [
      "จำนวนแถวทั้งหมดก่อนตัดข้อมูล: 10025\n",
      "จำนวนแถวทั้งหมดหลังจากตัดข้อมูล: 8441\n"
     ]
    },
    {
     "data": {
      "text/html": [
       "<div>\n",
       "<style scoped>\n",
       "    .dataframe tbody tr th:only-of-type {\n",
       "        vertical-align: middle;\n",
       "    }\n",
       "\n",
       "    .dataframe tbody tr th {\n",
       "        vertical-align: top;\n",
       "    }\n",
       "\n",
       "    .dataframe thead th {\n",
       "        text-align: right;\n",
       "    }\n",
       "</style>\n",
       "<table border=\"1\" class=\"dataframe\">\n",
       "  <thead>\n",
       "    <tr style=\"text-align: right;\">\n",
       "      <th></th>\n",
       "      <th>code</th>\n",
       "      <th>nameTh</th>\n",
       "    </tr>\n",
       "  </thead>\n",
       "  <tbody>\n",
       "    <tr>\n",
       "      <th>0</th>\n",
       "      <td>10000000</td>\n",
       "      <td>กรุงเทพมหานคร</td>\n",
       "    </tr>\n",
       "    <tr>\n",
       "      <th>1</th>\n",
       "      <td>10010000</td>\n",
       "      <td>เขตพระนคร</td>\n",
       "    </tr>\n",
       "    <tr>\n",
       "      <th>2</th>\n",
       "      <td>10010100</td>\n",
       "      <td>พระบรมมหาราชวัง</td>\n",
       "    </tr>\n",
       "    <tr>\n",
       "      <th>3</th>\n",
       "      <td>10010200</td>\n",
       "      <td>วังบูรพาภิรมย์</td>\n",
       "    </tr>\n",
       "    <tr>\n",
       "      <th>4</th>\n",
       "      <td>10010300</td>\n",
       "      <td>วัดราชบพิธ</td>\n",
       "    </tr>\n",
       "    <tr>\n",
       "      <th>...</th>\n",
       "      <td>...</td>\n",
       "      <td>...</td>\n",
       "    </tr>\n",
       "    <tr>\n",
       "      <th>10018</th>\n",
       "      <td>96120400</td>\n",
       "      <td>ช้างเผือก</td>\n",
       "    </tr>\n",
       "    <tr>\n",
       "      <th>10019</th>\n",
       "      <td>96130000</td>\n",
       "      <td>เจาะไอร้อง</td>\n",
       "    </tr>\n",
       "    <tr>\n",
       "      <th>10020</th>\n",
       "      <td>96130100</td>\n",
       "      <td>จวบ</td>\n",
       "    </tr>\n",
       "    <tr>\n",
       "      <th>10021</th>\n",
       "      <td>96130200</td>\n",
       "      <td>บูกิต</td>\n",
       "    </tr>\n",
       "    <tr>\n",
       "      <th>10022</th>\n",
       "      <td>96130300</td>\n",
       "      <td>มะรือโบออก</td>\n",
       "    </tr>\n",
       "  </tbody>\n",
       "</table>\n",
       "<p>8441 rows × 2 columns</p>\n",
       "</div>"
      ],
      "text/plain": [
       "           code           nameTh\n",
       "0      10000000    กรุงเทพมหานคร\n",
       "1      10010000        เขตพระนคร\n",
       "2      10010100  พระบรมมหาราชวัง\n",
       "3      10010200   วังบูรพาภิรมย์\n",
       "4      10010300       วัดราชบพิธ\n",
       "...         ...              ...\n",
       "10018  96120400        ช้างเผือก\n",
       "10019  96130000       เจาะไอร้อง\n",
       "10020  96130100              จวบ\n",
       "10021  96130200            บูกิต\n",
       "10022  96130300       มะรือโบออก\n",
       "\n",
       "[8441 rows x 2 columns]"
      ]
     },
     "execution_count": 7,
     "metadata": {},
     "output_type": "execute_result"
    }
   ],
   "source": [
    "# ลบ Missing Values (NaN) ออกจาก DataFrame\n",
    "df = df.dropna()\n",
    "\n",
    "# ตรวจสอบและแปลงค่าที่ไม่ใช่ข้อความให้เป็นข้อความ\n",
    "df['nameTh'] = df['nameTh'].astype(str)\n",
    "df['code'] = df['code'].astype(str)\n",
    "\n",
    "# นับจำนวนแถวทั้งหมดก่อนตัดข้อมูล\n",
    "total_rows_before = len(df)\n",
    "print(f\"จำนวนแถวทั้งหมดก่อนตัดข้อมูล: {total_rows_before}\")\n",
    "\n",
    "# ตัดแถวที่ nameTh ลงท้ายด้วย '*'\n",
    "df_transform = df[~df['nameTh'].str.endswith('*')]\n",
    "\n",
    "# นับจำนวนแถวหลังจากตัดข้อมูล\n",
    "total_rows_after = len(df_transform)\n",
    "print(f\"จำนวนแถวทั้งหมดหลังจากตัดข้อมูล: {total_rows_after}\")\n",
    "\n",
    "# ดู DataFrame หลังการตัดข้อมูล\n",
    "df_transform\n"
   ]
  },
  {
   "cell_type": "code",
   "execution_count": 8,
   "metadata": {},
   "outputs": [
    {
     "name": "stdout",
     "output_type": "stream",
     "text": [
      "<class 'pandas.core.frame.DataFrame'>\n",
      "Index: 8441 entries, 0 to 10022\n",
      "Data columns (total 2 columns):\n",
      " #   Column  Non-Null Count  Dtype \n",
      "---  ------  --------------  ----- \n",
      " 0   code    8441 non-null   object\n",
      " 1   nameTh  8441 non-null   object\n",
      "dtypes: object(2)\n",
      "memory usage: 197.8+ KB\n"
     ]
    }
   ],
   "source": [
    "df_transform.info()"
   ]
  },
  {
   "cell_type": "code",
   "execution_count": 9,
   "metadata": {},
   "outputs": [
    {
     "data": {
      "text/html": [
       "<div>\n",
       "<style scoped>\n",
       "    .dataframe tbody tr th:only-of-type {\n",
       "        vertical-align: middle;\n",
       "    }\n",
       "\n",
       "    .dataframe tbody tr th {\n",
       "        vertical-align: top;\n",
       "    }\n",
       "\n",
       "    .dataframe thead th {\n",
       "        text-align: right;\n",
       "    }\n",
       "</style>\n",
       "<table border=\"1\" class=\"dataframe\">\n",
       "  <thead>\n",
       "    <tr style=\"text-align: right;\">\n",
       "      <th></th>\n",
       "      <th>code</th>\n",
       "      <th>nameTh</th>\n",
       "    </tr>\n",
       "  </thead>\n",
       "  <tbody>\n",
       "    <tr>\n",
       "      <th>count</th>\n",
       "      <td>8441</td>\n",
       "      <td>8441</td>\n",
       "    </tr>\n",
       "    <tr>\n",
       "      <th>unique</th>\n",
       "      <td>8441</td>\n",
       "      <td>6229</td>\n",
       "    </tr>\n",
       "    <tr>\n",
       "      <th>top</th>\n",
       "      <td>96130300</td>\n",
       "      <td>หนองบัว</td>\n",
       "    </tr>\n",
       "    <tr>\n",
       "      <th>freq</th>\n",
       "      <td>1</td>\n",
       "      <td>29</td>\n",
       "    </tr>\n",
       "  </tbody>\n",
       "</table>\n",
       "</div>"
      ],
      "text/plain": [
       "            code   nameTh\n",
       "count       8441     8441\n",
       "unique      8441     6229\n",
       "top     96130300  หนองบัว\n",
       "freq           1       29"
      ]
     },
     "execution_count": 9,
     "metadata": {},
     "output_type": "execute_result"
    }
   ],
   "source": [
    "df_transform.describe()"
   ]
  },
  {
   "cell_type": "code",
   "execution_count": 10,
   "metadata": {},
   "outputs": [
    {
     "name": "stdout",
     "output_type": "stream",
     "text": [
      "           code           nameTh\n",
      "0      10000000    กรุงเทพมหานคร\n",
      "1      10010000        เขตพระนคร\n",
      "2      10010100  พระบรมมหาราชวัง\n",
      "3      10010200   วังบูรพาภิรมย์\n",
      "4      10010300       วัดราชบพิธ\n",
      "...         ...              ...\n",
      "10018  96120400        ช้างเผือก\n",
      "10019  96130000       เจาะไอร้อง\n",
      "10020  96130100              จวบ\n",
      "10021  96130200            บูกิต\n",
      "10022  96130300       มะรือโบออก\n",
      "\n",
      "[8441 rows x 2 columns]\n"
     ]
    }
   ],
   "source": [
    "## เอาเเต่จังหวัดออกมา\n",
    "print(df_transform)"
   ]
  },
  {
   "cell_type": "code",
   "execution_count": 11,
   "metadata": {},
   "outputs": [
    {
     "name": "stdout",
     "output_type": "stream",
     "text": [
      "          code           nameTh\n",
      "0     10000000    กรุงเทพมหานคร\n",
      "311   11000000      สมุทรปราการ\n",
      "382   12000000          นนทบุรี\n",
      "443   13000000         ปทุมธานี\n",
      "512   14000000  พระนครศรีอยุธยา\n",
      "...        ...              ...\n",
      "9488  92000000             ตรัง\n",
      "9616  93000000           พัทลุง\n",
      "9716  94000000          ปัตตานี\n",
      "9847  95000000             ยะลา\n",
      "9924  96000000         นราธิวาส\n",
      "\n",
      "[77 rows x 2 columns]\n"
     ]
    }
   ],
   "source": [
    "# กรองแถวที่ code มีแค่ 2 ตัวแรกเป็นตัวเลขอื่นได้ และตัวเลขที่เหลือทั้งหมดเป็น 0\n",
    "state_df = df_transform[df_transform['code'].str.match(r'^\\d{2}0+$')]\n",
    "\n",
    "# แสดงผลลัพธ์\n",
    "print(state_df)\n",
    "state_df.to_csv('./state_code_name.csv')"
   ]
  },
  {
   "cell_type": "code",
   "execution_count": 13,
   "metadata": {},
   "outputs": [
    {
     "name": "stdout",
     "output_type": "stream",
     "text": [
      "        code           nameTh abbraviation\n",
      "0   10000000    กรุงเทพมหานคร          BKK\n",
      "1   11000000      สมุทรปราการ          SPK\n",
      "2   12000000          นนทบุรี          NBI\n",
      "3   13000000         ปทุมธานี          PTE\n",
      "4   14000000  พระนครศรีอยุธยา          AYA\n",
      "..       ...              ...          ...\n",
      "72  92000000             ตรัง          TRG\n",
      "73  93000000           พัทลุง          PLG\n",
      "74  94000000          ปัตตานี          PTN\n",
      "75  95000000             ยะลา          YLA\n",
      "76  96000000         นราธิวาส          NWT\n",
      "\n",
      "[77 rows x 3 columns]\n"
     ]
    },
    {
     "ename": "",
     "evalue": "",
     "output_type": "error",
     "traceback": [
      "\u001b[1;31mThe Kernel crashed while executing code in the current cell or a previous cell. \n",
      "\u001b[1;31mPlease review the code in the cell(s) to identify a possible cause of the failure. \n",
      "\u001b[1;31mClick <a href='https://aka.ms/vscodeJupyterKernelCrash'>here</a> for more info. \n",
      "\u001b[1;31mView Jupyter <a href='command:jupyter.viewOutput'>log</a> for further details."
     ]
    }
   ],
   "source": [
    "# โหลดข้อมูลชื่อย่อของจังหวัดจากไฟล์ CSV\n",
    "state_abb_path = './state_abb.csv'\n",
    "df_abbreviation = pd.read_csv(state_abb_path)\n",
    "\n",
    "# Merge ข้อมูลโดยใช้คอลัมน์ nameTh\n",
    "df_merged = pd.merge(state_df, df_abbreviation, left_on='nameTh', right_on='name', how='left')\n",
    "\n",
    "# ลบคอลัมน์ name ที่ซ้ำซ้อน\n",
    "df_merged = df_merged.drop(columns=['name'])\n",
    "\n",
    "# แสดง DataFrame หลัง Merge\n",
    "print(df_merged)\n",
    "df_merged.to_csv('./state_code_name_abb.csv')"
   ]
  }
 ],
 "metadata": {
  "kernelspec": {
   "display_name": "Python 3",
   "language": "python",
   "name": "python3"
  },
  "language_info": {
   "codemirror_mode": {
    "name": "ipython",
    "version": 3
   },
   "file_extension": ".py",
   "mimetype": "text/x-python",
   "name": "python",
   "nbconvert_exporter": "python",
   "pygments_lexer": "ipython3",
   "version": "3.11.7"
  }
 },
 "nbformat": 4,
 "nbformat_minor": 2
}
