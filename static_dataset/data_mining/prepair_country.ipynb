{
 "cells": [
  {
   "cell_type": "markdown",
   "metadata": {},
   "source": [
    "# นี่คือการ เตรียมข้อมูลประเทศให้พร้อมสำหรับการ import ใส่ pgdb ได้ผ่านทาง terminal container"
   ]
  },
  {
   "cell_type": "code",
   "execution_count": null,
   "metadata": {},
   "outputs": [],
   "source": []
  }
 ],
 "metadata": {
  "language_info": {
   "name": "python"
  }
 },
 "nbformat": 4,
 "nbformat_minor": 2
}
