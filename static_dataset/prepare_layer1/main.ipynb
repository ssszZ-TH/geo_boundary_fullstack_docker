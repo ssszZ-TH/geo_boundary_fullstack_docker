{
 "cells": [
  {
   "cell_type": "markdown",
   "metadata": {},
   "source": [
    "# ทำ dataset ประเทศ"
   ]
  },
  {
   "cell_type": "code",
   "execution_count": 1,
   "metadata": {},
   "outputs": [
    {
     "name": "stdout",
     "output_type": "stream",
     "text": [
      "                  name alpha-2 alpha-3  country-code     iso_3166-2   region  \\\n",
      "0          Afghanistan      AF     AFG             4  ISO 3166-2:AF     Asia   \n",
      "1        Åland Islands      AX     ALA           248  ISO 3166-2:AX   Europe   \n",
      "2              Albania      AL     ALB             8  ISO 3166-2:AL   Europe   \n",
      "3              Algeria      DZ     DZA            12  ISO 3166-2:DZ   Africa   \n",
      "4       American Samoa      AS     ASM            16  ISO 3166-2:AS  Oceania   \n",
      "..                 ...     ...     ...           ...            ...      ...   \n",
      "244  Wallis and Futuna      WF     WLF           876  ISO 3166-2:WF  Oceania   \n",
      "245     Western Sahara      EH     ESH           732  ISO 3166-2:EH   Africa   \n",
      "246              Yemen      YE     YEM           887  ISO 3166-2:YE     Asia   \n",
      "247             Zambia      ZM     ZMB           894  ISO 3166-2:ZM   Africa   \n",
      "248           Zimbabwe      ZW     ZWE           716  ISO 3166-2:ZW   Africa   \n",
      "\n",
      "             sub-region intermediate-region  region-code  sub-region-code  \\\n",
      "0         Southern Asia                 NaN        142.0             34.0   \n",
      "1       Northern Europe                 NaN        150.0            154.0   \n",
      "2       Southern Europe                 NaN        150.0             39.0   \n",
      "3       Northern Africa                 NaN          2.0             15.0   \n",
      "4             Polynesia                 NaN          9.0             61.0   \n",
      "..                  ...                 ...          ...              ...   \n",
      "244           Polynesia                 NaN          9.0             61.0   \n",
      "245     Northern Africa                 NaN          2.0             15.0   \n",
      "246        Western Asia                 NaN        142.0            145.0   \n",
      "247  Sub-Saharan Africa      Eastern Africa          2.0            202.0   \n",
      "248  Sub-Saharan Africa      Eastern Africa          2.0            202.0   \n",
      "\n",
      "     intermediate-region-code  \n",
      "0                         NaN  \n",
      "1                         NaN  \n",
      "2                         NaN  \n",
      "3                         NaN  \n",
      "4                         NaN  \n",
      "..                        ...  \n",
      "244                       NaN  \n",
      "245                       NaN  \n",
      "246                       NaN  \n",
      "247                      14.0  \n",
      "248                      14.0  \n",
      "\n",
      "[249 rows x 11 columns]\n"
     ]
    }
   ],
   "source": [
    "import pandas as pd\n",
    "\n",
    "df= pd.read_csv('./rawCountryRgion.csv')\n",
    "print(df)"
   ]
  },
  {
   "cell_type": "code",
   "execution_count": 2,
   "metadata": {},
   "outputs": [
    {
     "name": "stdout",
     "output_type": "stream",
     "text": [
      "                  name alpha-2\n",
      "0          Afghanistan      AF\n",
      "1        Åland Islands      AX\n",
      "2              Albania      AL\n",
      "3              Algeria      DZ\n",
      "4       American Samoa      AS\n",
      "..                 ...     ...\n",
      "244  Wallis and Futuna      WF\n",
      "245     Western Sahara      EH\n",
      "246              Yemen      YE\n",
      "247             Zambia      ZM\n",
      "248           Zimbabwe      ZW\n",
      "\n",
      "[249 rows x 2 columns]\n"
     ]
    }
   ],
   "source": [
    "df.drop(['alpha-3','country-code','iso_3166-2','region','sub-region','intermediate-region','region-code','sub-region-code','intermediate-region-code'], axis=1, inplace=True)\n",
    "\n",
    "print(df)\n"
   ]
  },
  {
   "cell_type": "code",
   "execution_count": 3,
   "metadata": {},
   "outputs": [
    {
     "name": "stdout",
     "output_type": "stream",
     "text": [
      "     geo_id    geo_code               name abbreviation  type_id\n",
      "0         1  country-AF        Afghanistan           AF        1\n",
      "1         2  country-AX      Åland Islands           AX        1\n",
      "2         3  country-AL            Albania           AL        1\n",
      "3         4  country-DZ            Algeria           DZ        1\n",
      "4         5  country-AS     American Samoa           AS        1\n",
      "..      ...         ...                ...          ...      ...\n",
      "244     245  country-WF  Wallis and Futuna           WF        1\n",
      "245     246  country-EH     Western Sahara           EH        1\n",
      "246     247  country-YE              Yemen           YE        1\n",
      "247     248  country-ZM             Zambia           ZM        1\n",
      "248     249  country-ZW           Zimbabwe           ZW        1\n",
      "\n",
      "[249 rows x 5 columns]\n"
     ]
    }
   ],
   "source": [
    "# สร้าง DataFrame ใหม่ตามเงื่อนไข\n",
    "country_df = pd.DataFrame({\n",
    "    \"geo_id\": range(1, len(df) + 1),  # สร้าง sequential ID\n",
    "    \"geo_code\": \"country-\" + df[\"alpha-2\"],  # geo_code = country-{alpha-2}\n",
    "    \"name\": df[\"name\"],  # คอลัมน์ name\n",
    "    \"abbreviation\": df[\"alpha-2\"],  # คอลัมน์ abbreviation\n",
    "    \"type_id\": 1  # ค่า type_id เท่ากับ 1\n",
    "})\n",
    "\n",
    "# แสดงผลลัพธ์\n",
    "print(country_df)\n",
    "# country_df.to_csv('./country_suppertype.csv')"
   ]
  },
  {
   "cell_type": "markdown",
   "metadata": {},
   "source": [
    "# สร้าง subtype ของประเทศ(country)"
   ]
  },
  {
   "cell_type": "code",
   "execution_count": 4,
   "metadata": {},
   "outputs": [
    {
     "name": "stdout",
     "output_type": "stream",
     "text": [
      "     geo_id\n",
      "0         1\n",
      "1         2\n",
      "2         3\n",
      "3         4\n",
      "4         5\n",
      "..      ...\n",
      "244     245\n",
      "245     246\n",
      "246     247\n",
      "247     248\n",
      "248     249\n",
      "\n",
      "[249 rows x 1 columns]\n"
     ]
    }
   ],
   "source": [
    "country_subtype_df = pd.DataFrame({\n",
    "    \"geo_id\": range(1, len(country_df) + 1),  # สร้าง sequential ID\n",
    "})\n",
    "\n",
    "print(country_subtype_df)\n",
    "country_subtype_df.to_csv('./country_subtype.csv')"
   ]
  },
  {
   "cell_type": "markdown",
   "metadata": {},
   "source": [
    "# prepair sales territory"
   ]
  },
  {
   "cell_type": "markdown",
   "metadata": {},
   "source": [
    "**Sales Territory** คือ **พื้นที่หรือเขตการขาย** ที่กำหนดให้ทีมขายหรือบุคคลรับผิดชอบการขายสินค้าและบริการในพื้นที่นั้น ๆ ค่ะ 😄 \n",
    "\n",
    "### **ความหมายโดยละเอียด**\n",
    "1. **การกำหนดเขต**  \n",
    "   - บริษัทแบ่งพื้นที่ขายโดยอิงจากเกณฑ์ เช่น **ตำแหน่งทางภูมิศาสตร์**, **ประชากร**, **รายได้ของลูกค้า**, หรือ **อุตสาหกรรม**  \n",
    "   - ตัวอย่าง: เขตการขายในประเทศไทยอาจแบ่งตาม **ภาค** (เช่น ภาคเหนือ, ภาคกลาง) หรือ **จังหวัด** (เชียงใหม่, กรุงเทพฯ)\n",
    "\n",
    "2. **เป้าหมายหลักของ Sales Territory**  \n",
    "   - เพื่อเพิ่มประสิทธิภาพการขาย  \n",
    "   - กระจายทรัพยากรและทีมขายอย่างเหมาะสม  \n",
    "   - ใช้เป็นตัวช่วยวิเคราะห์ยอดขายในแต่ละพื้นที่\n",
    "\n",
    "3. **ตัวอย่างการใช้งาน**  \n",
    "   - ตัวแทนขายรับผิดชอบ **เขตภาคใต้** และได้รับเป้าหมายยอดขายเดือนละ 500,000 บาท  \n",
    "   - ทีมขายใน **กรุงเทพฯ** อาจเน้นการขายให้ธุรกิจขนาดใหญ่  "
   ]
  },
  {
   "cell_type": "markdown",
   "metadata": {},
   "source": [
    "**Service Territory** คือ **เขตพื้นที่ที่องค์กรหรือบริษัทกำหนดเพื่อให้บริการแก่ลูกค้า** เช่น การติดตั้ง, การซ่อมแซม, การสนับสนุนหลังการขาย, หรือการจัดส่งสินค้า 🛠️🚚\n",
    "\n",
    "### **ความหมายโดยละเอียด**  \n",
    "\n",
    "1. **การกำหนด Service Territory**\n",
    "   - เป็นพื้นที่ที่ทีมงานบริการ (เช่น ทีมช่าง, ฝ่ายสนับสนุนลูกค้า) รับผิดชอบในการดูแลลูกค้า  \n",
    "   - เขตนี้อาจแบ่งตาม **ภูมิศาสตร์**, **เขตไปรษณีย์**, **ประเภทธุรกิจ**, หรือ **ความหนาแน่นของลูกค้า**  \n",
    "\n",
    "2. **วัตถุประสงค์ของ Service Territory**\n",
    "   - **เพื่อเพิ่มประสิทธิภาพการให้บริการ:**  \n",
    "     ลดเวลาในการเดินทาง และช่วยให้ทีมบริการสามารถตอบสนองต่อปัญหาได้รวดเร็ว  \n",
    "   - **เพื่อการจัดการทรัพยากรที่มีประสิทธิภาพ:**  \n",
    "     ใช้ข้อมูลเขตเพื่อวางแผนการทำงาน เช่น กำหนดจำนวนทีมในแต่ละเขต  \n",
    "   - **เพื่อปรับปรุงความพึงพอใจของลูกค้า:**  \n",
    "     การให้บริการที่ครอบคลุมและรวดเร็วในพื้นที่ที่ลูกค้าอยู่  \n",
    "\n",
    "3. **ตัวอย่างการใช้งาน**\n",
    "   - เขตบริการของทีมติดตั้งอินเทอร์เน็ต เช่น **กรุงเทพฯ ฝั่งธนบุรี**  \n",
    "   - การซ่อมเครื่องใช้ไฟฟ้าของลูกค้าในเขต **ภาคตะวันออกเฉียงเหนือ**  \n",
    "   - การจัดส่งสินค้าในรัศมี 20 กิโลเมตรรอบคลังสินค้า  \n",
    "\n",
    "---\n",
    "\n",
    "### **ความแตกต่างระหว่าง Sales Territory และ Service Territory**\n",
    "- **Sales Territory**: เน้นการขายสินค้าและการขยายตลาด  \n",
    "- **Service Territory**: เน้นการสนับสนุนลูกค้าและบริการหลังการขาย  \n",
    "\n",
    "---\n",
    "\n",
    "\n",
    "### **ตัวอย่างการใช้จริง**\n",
    "1. **บริษัทโทรคมนาคม**  \n",
    "   - ทีมติดตั้งเน็ตไฟเบอร์รับผิดชอบเขตบางกะปิ  \n",
    "   - ใช้ระบบ GIS เพื่อวางแผนและดูแล Service Territory  \n",
    "\n",
    "2. **บริษัทขนส่งสินค้า**  \n",
    "   - กำหนดทีมส่งของตามรหัสไปรษณีย์ เช่น เขต 10110 (พระโขนง)  \n",
    "   - แบ่งพื้นที่เพื่อให้ทีมไม่ซ้อนทับกัน  \n",
    "\n",
    "---\n",
    "\n",
    "ถ้าต้องการข้อมูล Dataset หรือคำแนะนำในการตั้ง Service Territory ให้เหมาะสมกับโปรเจกต์ บอกได้นะคะ พร้อมช่วยจัดการให้อย่างละเอียดเลยค่ะ! 🚀📊"
   ]
  },
  {
   "cell_type": "markdown",
   "metadata": {},
   "source": [
    "# DB ที่ทำ ยังไม่ได้มีข้อมูลเกี่ยวกับ เขตรับผิดชอบการขาย หรือ เขตรับผิดชอบการบริการ เลยจะยังไม่ใส่ขข้อมูล"
   ]
  },
  {
   "cell_type": "markdown",
   "metadata": {},
   "source": [
    "# prepair region csv"
   ]
  },
  {
   "cell_type": "code",
   "execution_count": 5,
   "metadata": {},
   "outputs": [
    {
     "name": "stdout",
     "output_type": "stream",
     "text": [
      "                  name alpha-2 alpha-3  country-code     iso_3166-2   region  \\\n",
      "0          Afghanistan      AF     AFG             4  ISO 3166-2:AF     Asia   \n",
      "1        Åland Islands      AX     ALA           248  ISO 3166-2:AX   Europe   \n",
      "2              Albania      AL     ALB             8  ISO 3166-2:AL   Europe   \n",
      "3              Algeria      DZ     DZA            12  ISO 3166-2:DZ   Africa   \n",
      "4       American Samoa      AS     ASM            16  ISO 3166-2:AS  Oceania   \n",
      "..                 ...     ...     ...           ...            ...      ...   \n",
      "244  Wallis and Futuna      WF     WLF           876  ISO 3166-2:WF  Oceania   \n",
      "245     Western Sahara      EH     ESH           732  ISO 3166-2:EH   Africa   \n",
      "246              Yemen      YE     YEM           887  ISO 3166-2:YE     Asia   \n",
      "247             Zambia      ZM     ZMB           894  ISO 3166-2:ZM   Africa   \n",
      "248           Zimbabwe      ZW     ZWE           716  ISO 3166-2:ZW   Africa   \n",
      "\n",
      "             sub-region intermediate-region  region-code  sub-region-code  \\\n",
      "0         Southern Asia                 NaN        142.0             34.0   \n",
      "1       Northern Europe                 NaN        150.0            154.0   \n",
      "2       Southern Europe                 NaN        150.0             39.0   \n",
      "3       Northern Africa                 NaN          2.0             15.0   \n",
      "4             Polynesia                 NaN          9.0             61.0   \n",
      "..                  ...                 ...          ...              ...   \n",
      "244           Polynesia                 NaN          9.0             61.0   \n",
      "245     Northern Africa                 NaN          2.0             15.0   \n",
      "246        Western Asia                 NaN        142.0            145.0   \n",
      "247  Sub-Saharan Africa      Eastern Africa          2.0            202.0   \n",
      "248  Sub-Saharan Africa      Eastern Africa          2.0            202.0   \n",
      "\n",
      "     intermediate-region-code  \n",
      "0                         NaN  \n",
      "1                         NaN  \n",
      "2                         NaN  \n",
      "3                         NaN  \n",
      "4                         NaN  \n",
      "..                        ...  \n",
      "244                       NaN  \n",
      "245                       NaN  \n",
      "246                       NaN  \n",
      "247                      14.0  \n",
      "248                      14.0  \n",
      "\n",
      "[249 rows x 11 columns]\n"
     ]
    }
   ],
   "source": [
    "## region คือภูมิภาค ประเทศไทย ไม่ได้ใช้ระบบ ภูมิภาค\n",
    "import pandas as pd\n",
    "df = pd.read_csv('./rawCountryRgion.csv')\n",
    "print(df)"
   ]
  },
  {
   "cell_type": "code",
   "execution_count": 6,
   "metadata": {},
   "outputs": [
    {
     "name": "stdout",
     "output_type": "stream",
     "text": [
      "        name   code\n",
      "0       Asia  142.0\n",
      "1     Europe  150.0\n",
      "2     Europe  150.0\n",
      "3     Africa    2.0\n",
      "4    Oceania    9.0\n",
      "..       ...    ...\n",
      "244  Oceania    9.0\n",
      "245   Africa    2.0\n",
      "246     Asia  142.0\n",
      "247   Africa    2.0\n",
      "248   Africa    2.0\n",
      "\n",
      "[249 rows x 2 columns]\n"
     ]
    }
   ],
   "source": [
    "df_region = pd.DataFrame({\n",
    "    \"name\": df[\"region\"],\n",
    "    \"code\": df[\"region-code\"]\n",
    "})\n",
    "print(df_region)"
   ]
  },
  {
   "cell_type": "code",
   "execution_count": 7,
   "metadata": {},
   "outputs": [
    {
     "name": "stdout",
     "output_type": "stream",
     "text": [
      "       name   code\n",
      "0      Asia  142.0\n",
      "1    Europe  150.0\n",
      "3    Africa    2.0\n",
      "4   Oceania    9.0\n",
      "7  Americas   19.0\n"
     ]
    }
   ],
   "source": [
    "## select distinct region\n",
    "df_region = df_region.drop_duplicates()\n",
    "df_region = df_region.dropna()\n",
    "print(df_region)"
   ]
  },
  {
   "cell_type": "markdown",
   "metadata": {},
   "source": [
    "prompt\n",
    "\n",
    "จาก dataset นี้\n",
    "\n",
    "```\n",
    "       name   code\n",
    "0      Asia  142.0\n",
    "1    Europe  150.0\n",
    "3    Africa    2.0\n",
    "4   Oceania    9.0\n",
    "7  Americas   19.0\n",
    "```\n",
    "\n",
    "ช่วยเอามา map เป็น dataframe ใหม่ ชื่อ country_df\n",
    "โดยมี column ดังนี้\n",
    "1. geo_id คือ sequencial 1-...\n",
    "2. geo_code คือ region-{code ที่เอาทศนิยมออก}\n",
    "3. name คือ ชื่อเหมือนเดิม\n",
    "4. abbreviation คือ {code ที่เอาทศนิยมออก} เฉยๆ\n",
    "5. type_id คือ 10"
   ]
  },
  {
   "cell_type": "code",
   "execution_count": 8,
   "metadata": {},
   "outputs": [
    {
     "name": "stdout",
     "output_type": "stream",
     "text": [
      "   geo_id    geo_code      name abbreviation  type_id\n",
      "0     251  region-142      Asia          142       10\n",
      "1     252  region-150    Europe          150       10\n",
      "3     253    region-2    Africa            2       10\n",
      "4     254    region-9   Oceania            9       10\n",
      "7     255   region-19  Americas           19       10\n"
     ]
    }
   ],
   "source": [
    "\n",
    "\n",
    "# แปลง code เป็นตัวเลขจำนวนเต็ม\n",
    "df_region[\"code_int\"] = df_region[\"code\"].astype(int)\n",
    "\n",
    "# สร้าง DataFrame ใหม่ตามเงื่อนไข\n",
    "region_df = pd.DataFrame({\n",
    "    \"geo_id\": range(1+250, len(df_region) + 1+250),  # สร้าง sequential ID เริ่มจาก id ที่ไม่ชันกับ country\n",
    "    \"geo_code\": \"region-\" + df_region[\"code_int\"].astype(str),  # geo_code = region-{code ที่เอาทศนิยมออก}\n",
    "    \"name\": df_region[\"name\"],  # คอลัมน์ name\n",
    "    \"abbreviation\": df_region[\"code_int\"].astype(str),  # abbreviation = {code ที่เอาทศนิยมออก}\n",
    "    \"type_id\": 10  # ค่า type_id เท่ากับ 10\n",
    "})\n",
    "\n",
    "# แสดงผลลัพธ์\n",
    "print(region_df)\n",
    "region_df.to_csv('./region_supertype.csv')"
   ]
  },
  {
   "cell_type": "code",
   "execution_count": 9,
   "metadata": {},
   "outputs": [
    {
     "name": "stdout",
     "output_type": "stream",
     "text": [
      "   geo_id\n",
      "0     251\n",
      "1     252\n",
      "3     253\n",
      "4     254\n",
      "7     255\n"
     ]
    }
   ],
   "source": [
    "region_subtype_df = pd.DataFrame({\n",
    "    \"geo_id\": region_df[\"geo_id\"],\n",
    "})\n",
    "\n",
    "print(region_subtype_df)\n",
    "region_subtype_df.to_csv('./region_subtype.csv')"
   ]
  },
  {
   "cell_type": "markdown",
   "metadata": {},
   "source": [
    "# prepair postal code"
   ]
  },
  {
   "cell_type": "code",
   "execution_count": 10,
   "metadata": {},
   "outputs": [
    {
     "name": "stdout",
     "output_type": "stream",
     "text": [
      "        id    zip       province    district        lat         lng\n",
      "0        1  10200  กรุงเทพมหานคร      พระนคร  13.756024  100.498679\n",
      "1        2  10300  กรุงเทพมหานคร       ดุสิต  13.772694  100.509926\n",
      "2        3  10530  กรุงเทพมหานคร     หนองจอก  13.855988  100.861969\n",
      "3        4  10500  กรุงเทพมหานคร      บางรัก  13.726240  100.526799\n",
      "4        5  10220  กรุงเทพมหานคร      บางเขน  13.864387  100.614643\n",
      "...    ...    ...            ...         ...        ...         ...\n",
      "1158  1159  96190       นราธิวาส     สุคิริน   5.938557  101.779963\n",
      "1159  1160  96120       นราธิวาส   สุไหงโกลก   6.020954  101.952146\n",
      "1160  1161  96140       นราธิวาส   สุไหงปาดี   6.083510  101.911987\n",
      "1161  1162  96220       นราธิวาส       จะแนะ   6.168756  101.697864\n",
      "1162  1163  96130       นราธิวาส  เจาะไอร้อง   6.294943  101.717652\n",
      "\n",
      "[1163 rows x 6 columns]\n"
     ]
    }
   ],
   "source": [
    "import pandas as pd\n",
    "raw_postal_df = pd.read_json('./postal.json')\n",
    "print(raw_postal_df)"
   ]
  },
  {
   "cell_type": "code",
   "execution_count": 11,
   "metadata": {},
   "outputs": [
    {
     "name": "stdout",
     "output_type": "stream",
     "text": [
      "            name   code\n",
      "0         พระนคร  10200\n",
      "1          ดุสิต  10300\n",
      "2        หนองจอก  10530\n",
      "3         บางรัก  10500\n",
      "4         บางเขน  10220\n",
      "...          ...    ...\n",
      "1158     สุคิริน  96190\n",
      "1159   สุไหงโกลก  96120\n",
      "1160   สุไหงปาดี  96140\n",
      "1161       จะแนะ  96220\n",
      "1162  เจาะไอร้อง  96130\n",
      "\n",
      "[1163 rows x 2 columns]\n"
     ]
    }
   ],
   "source": [
    "filter_postal_df = pd.DataFrame({\n",
    "    \"name\": raw_postal_df[\"district\"],\n",
    "    \"code\": raw_postal_df[\"zip\"],\n",
    "})\n",
    "print(filter_postal_df)"
   ]
  },
  {
   "cell_type": "code",
   "execution_count": 12,
   "metadata": {},
   "outputs": [
    {
     "name": "stdout",
     "output_type": "stream",
     "text": [
      "      geo_id      geo_code        name abbreviation  type_id\n",
      "0        256  postal-10200      พระนคร        10200        6\n",
      "1        257  postal-10300       ดุสิต        10300        6\n",
      "2        258  postal-10530     หนองจอก        10530        6\n",
      "3        259  postal-10500      บางรัก        10500        6\n",
      "4        260  postal-10220      บางเขน        10220        6\n",
      "...      ...           ...         ...          ...      ...\n",
      "1158    1414  postal-96190     สุคิริน        96190        6\n",
      "1159    1415  postal-96120   สุไหงโกลก        96120        6\n",
      "1160    1416  postal-96140   สุไหงปาดี        96140        6\n",
      "1161    1417  postal-96220       จะแนะ        96220        6\n",
      "1162    1418  postal-96130  เจาะไอร้อง        96130        6\n",
      "\n",
      "[1163 rows x 5 columns]\n"
     ]
    }
   ],
   "source": [
    "postal_suppertype_df = pd.DataFrame({\n",
    "    \"geo_id\": range(256, len(filter_postal_df) + 256),\n",
    "    \"geo_code\": \"postal-\" + filter_postal_df[\"code\"].astype(str),\n",
    "    \"name\": filter_postal_df[\"name\"],  # คอลัมน์ name\n",
    "    \"abbreviation\": filter_postal_df[\"code\"].astype(str), \n",
    "    \"type_id\":6,\n",
    "})\n",
    "\n",
    "print(postal_suppertype_df)\n",
    "postal_suppertype_df.to_csv('./postalcode_suppertype.csv')"
   ]
  },
  {
   "cell_type": "code",
   "execution_count": 13,
   "metadata": {},
   "outputs": [
    {
     "name": "stdout",
     "output_type": "stream",
     "text": [
      "      geo_id  country_id\n",
      "0        256         221\n",
      "1        257         221\n",
      "2        258         221\n",
      "3        259         221\n",
      "4        260         221\n",
      "...      ...         ...\n",
      "1158    1414         221\n",
      "1159    1415         221\n",
      "1160    1416         221\n",
      "1161    1417         221\n",
      "1162    1418         221\n",
      "\n",
      "[1163 rows x 2 columns]\n"
     ]
    }
   ],
   "source": [
    "postal_subtype_df = pd.DataFrame({\n",
    "    \"geo_id\": postal_suppertype_df[\"geo_id\"],\n",
    "    \"country_id\": 221,\n",
    "})\n",
    "\n",
    "postal_subtype_df.to_csv('./postalcode_subtype.csv')\n",
    "\n",
    "print(postal_subtype_df)"
   ]
  },
  {
   "cell_type": "markdown",
   "metadata": {},
   "source": [
    "# prepair state"
   ]
  },
  {
   "cell_type": "code",
   "execution_count": 29,
   "metadata": {},
   "outputs": [
    {
     "name": "stdout",
     "output_type": "stream",
     "text": [
      "    Unnamed: 0      code           nameTh abbraviation\n",
      "0            0  10000000    กรุงเทพมหานคร          BKK\n",
      "1            1  11000000      สมุทรปราการ          SPK\n",
      "2            2  12000000          นนทบุรี          NBI\n",
      "3            3  13000000         ปทุมธานี          PTE\n",
      "4            4  14000000  พระนครศรีอยุธยา          AYA\n",
      "..         ...       ...              ...          ...\n",
      "72          72  92000000             ตรัง          TRG\n",
      "73          73  93000000           พัทลุง          PLG\n",
      "74          74  94000000          ปัตตานี          PTN\n",
      "75          75  95000000             ยะลา          YLA\n",
      "76          76  96000000         นราธิวาส          NWT\n",
      "\n",
      "[77 rows x 4 columns]\n"
     ]
    }
   ],
   "source": [
    "import pandas as pd\n",
    "raw_state_df = pd.read_csv('./state_code_name_abb.csv')\n",
    "print(raw_state_df)"
   ]
  },
  {
   "cell_type": "code",
   "execution_count": 30,
   "metadata": {},
   "outputs": [
    {
     "name": "stdout",
     "output_type": "stream",
     "text": [
      "    geo_id           geo_code             name abbreviation  type_id\n",
      "0     1419  state-TH-10000000    กรุงเทพมหานคร          BKK        3\n",
      "1     1420  state-TH-11000000      สมุทรปราการ          SPK        3\n",
      "2     1421  state-TH-12000000          นนทบุรี          NBI        3\n",
      "3     1422  state-TH-13000000         ปทุมธานี          PTE        3\n",
      "4     1423  state-TH-14000000  พระนครศรีอยุธยา          AYA        3\n",
      "..     ...                ...              ...          ...      ...\n",
      "72    1491  state-TH-92000000             ตรัง          TRG        3\n",
      "73    1492  state-TH-93000000           พัทลุง          PLG        3\n",
      "74    1493  state-TH-94000000          ปัตตานี          PTN        3\n",
      "75    1494  state-TH-95000000             ยะลา          YLA        3\n",
      "76    1495  state-TH-96000000         นราธิวาส          NWT        3\n",
      "\n",
      "[77 rows x 5 columns]\n"
     ]
    }
   ],
   "source": [
    "state_suppertype_df = pd.DataFrame({\n",
    "    \"geo_id\": range(1419, len(raw_state_df) + 1419),\n",
    "    \"geo_code\": \"state-TH-\" + raw_state_df[\"code\"].astype(str),\n",
    "    \"name\": raw_state_df[\"nameTh\"],  # คอลัมน์ name\n",
    "    \"abbreviation\": raw_state_df[\"abbraviation\"],\n",
    "    \"type_id\":3,\n",
    "})\n",
    "print(state_suppertype_df)\n",
    "state_suppertype_df.to_csv('./state_suppertype.csv')"
   ]
  },
  {
   "cell_type": "code",
   "execution_count": 31,
   "metadata": {},
   "outputs": [
    {
     "name": "stdout",
     "output_type": "stream",
     "text": [
      "    geo_id  country_id\n",
      "0     1419         221\n",
      "1     1420         221\n",
      "2     1421         221\n",
      "3     1422         221\n",
      "4     1423         221\n",
      "..     ...         ...\n",
      "72    1491         221\n",
      "73    1492         221\n",
      "74    1493         221\n",
      "75    1494         221\n",
      "76    1495         221\n",
      "\n",
      "[77 rows x 2 columns]\n"
     ]
    }
   ],
   "source": [
    "state_subtype_df = pd.DataFrame({\n",
    "    \"geo_id\": state_suppertype_df[\"geo_id\"],\n",
    "    \"country_id\": 221,\n",
    "})\n",
    "\n",
    "state_subtype_df.to_csv('./state_subtype.csv')\n",
    "print(state_subtype_df)"
   ]
  },
  {
   "cell_type": "markdown",
   "metadata": {},
   "source": [
    "# prepair county"
   ]
  },
  {
   "cell_type": "code",
   "execution_count": 32,
   "metadata": {},
   "outputs": [
    {
     "name": "stdout",
     "output_type": "stream",
     "text": [
      "           code                 nameTh                     nameEng  \\\n",
      "0      10000000          กรุงเทพมหานคร                     Bangkok   \n",
      "1      10010000              เขตพระนคร                 Phra Nakhon   \n",
      "2      10010100        พระบรมมหาราชวัง  Phra Borom Maha Ratchawang   \n",
      "3      10010200         วังบูรพาภิรมย์         Wang Burapha Phirom   \n",
      "4      10010300             วัดราชบพิธ            Wat Ratchabophit   \n",
      "...         ...                    ...                         ...   \n",
      "10020  96130100                    จวบ                       Chuap   \n",
      "10021  96130200                  บูกิต                       Bukit   \n",
      "10022  96130300             มะรือโบออก                  Maruebo Ok   \n",
      "10023  96810000  อ.บางนรา  จ.นราธิวาส*                               \n",
      "10024  97059600               โคกสอาด*                  Khok Sa-at   \n",
      "\n",
      "       transferdate  \n",
      "0                 0  \n",
      "1                 0  \n",
      "2                 0  \n",
      "3                 0  \n",
      "4                 0  \n",
      "...             ...  \n",
      "10020             0  \n",
      "10021             0  \n",
      "10022             0  \n",
      "10023      25490101  \n",
      "10024      25490101  \n",
      "\n",
      "[10025 rows x 4 columns]\n"
     ]
    }
   ],
   "source": [
    "import pandas as pd\n",
    "raw_county_df = pd.read_csv('../data_mining/ccaatt.csv')\n",
    "print(raw_county_df)"
   ]
  },
  {
   "cell_type": "code",
   "execution_count": 33,
   "metadata": {},
   "outputs": [
    {
     "name": "stdout",
     "output_type": "stream",
     "text": [
      "nan value terminate 0\n",
      "           code                 nameTh                     nameEng  \\\n",
      "0      10000000          กรุงเทพมหานคร                     Bangkok   \n",
      "1      10010000              เขตพระนคร                 Phra Nakhon   \n",
      "2      10010100        พระบรมมหาราชวัง  Phra Borom Maha Ratchawang   \n",
      "3      10010200         วังบูรพาภิรมย์         Wang Burapha Phirom   \n",
      "4      10010300             วัดราชบพิธ            Wat Ratchabophit   \n",
      "...         ...                    ...                         ...   \n",
      "10020  96130100                    จวบ                       Chuap   \n",
      "10021  96130200                  บูกิต                       Bukit   \n",
      "10022  96130300             มะรือโบออก                  Maruebo Ok   \n",
      "10023  96810000  อ.บางนรา  จ.นราธิวาส*                               \n",
      "10024  97059600               โคกสอาด*                  Khok Sa-at   \n",
      "\n",
      "       transferdate  \n",
      "0                 0  \n",
      "1                 0  \n",
      "2                 0  \n",
      "3                 0  \n",
      "4                 0  \n",
      "...             ...  \n",
      "10020             0  \n",
      "10021             0  \n",
      "10022             0  \n",
      "10023      25490101  \n",
      "10024      25490101  \n",
      "\n",
      "[10025 rows x 4 columns]\n"
     ]
    }
   ],
   "source": [
    "# ลบ Missing Values (NaN) ออกจาก DataFrame\n",
    "clean1_county_df = raw_county_df.dropna()\n",
    "print('nan value terminate',len(raw_county_df)-len(clean1_county_df))\n",
    "print(clean1_county_df)"
   ]
  },
  {
   "cell_type": "code",
   "execution_count": 34,
   "metadata": {},
   "outputs": [
    {
     "name": "stdout",
     "output_type": "stream",
     "text": [
      "before drop * 10025\n",
      "after drop * 8441\n",
      "drop data end with * =  1584\n",
      "           code           nameTh                     nameEng  transferdate\n",
      "0      10000000    กรุงเทพมหานคร                     Bangkok             0\n",
      "1      10010000        เขตพระนคร                 Phra Nakhon             0\n",
      "2      10010100  พระบรมมหาราชวัง  Phra Borom Maha Ratchawang             0\n",
      "3      10010200   วังบูรพาภิรมย์         Wang Burapha Phirom             0\n",
      "4      10010300       วัดราชบพิธ            Wat Ratchabophit             0\n",
      "...         ...              ...                         ...           ...\n",
      "10018  96120400        ช้างเผือก                Chang Phueak             0\n",
      "10019  96130000       เจาะไอร้อง                  Cho-airong             0\n",
      "10020  96130100              จวบ                       Chuap             0\n",
      "10021  96130200            บูกิต                       Bukit             0\n",
      "10022  96130300       มะรือโบออก                  Maruebo Ok             0\n",
      "\n",
      "[8441 rows x 4 columns]\n"
     ]
    }
   ],
   "source": [
    "# ตัดแถวที่ nameTh ลงท้ายด้วย '*'\n",
    "clean2_county_df = clean1_county_df[~clean1_county_df['nameTh'].str.endswith('*')]\n",
    "print('before drop *',len(clean1_county_df))\n",
    "print('after drop *',len(clean2_county_df))\n",
    "print('drop data end with * = ',len(clean1_county_df)-len(clean2_county_df))\n",
    "print(clean2_county_df)\n"
   ]
  },
  {
   "cell_type": "code",
   "execution_count": 35,
   "metadata": {},
   "outputs": [
    {
     "name": "stdout",
     "output_type": "stream",
     "text": [
      "           code             name\n",
      "0      10000000    กรุงเทพมหานคร\n",
      "1      10010000        เขตพระนคร\n",
      "2      10010100  พระบรมมหาราชวัง\n",
      "3      10010200   วังบูรพาภิรมย์\n",
      "4      10010300       วัดราชบพิธ\n",
      "...         ...              ...\n",
      "10018  96120400        ช้างเผือก\n",
      "10019  96130000       เจาะไอร้อง\n",
      "10020  96130100              จวบ\n",
      "10021  96130200            บูกิต\n",
      "10022  96130300       มะรือโบออก\n",
      "\n",
      "[8441 rows x 2 columns]\n"
     ]
    }
   ],
   "source": [
    "# extract feature\n",
    "clean3_county_df = pd.DataFrame({\n",
    "    \"code\": clean2_county_df[\"code\"].astype(str),\n",
    "    \"name\": clean2_county_df[\"nameTh\"],\n",
    "})\n",
    "\n",
    "print(clean3_county_df)"
   ]
  },
  {
   "cell_type": "code",
   "execution_count": 36,
   "metadata": {},
   "outputs": [
    {
     "name": "stdout",
     "output_type": "stream",
     "text": [
      "           code state_digit county_digit aumper_digit             name\n",
      "0      10000000          10           00           00    กรุงเทพมหานคร\n",
      "1      10010000          10           01           00        เขตพระนคร\n",
      "2      10010100          10           01           01  พระบรมมหาราชวัง\n",
      "3      10010200          10           01           02   วังบูรพาภิรมย์\n",
      "4      10010300          10           01           03       วัดราชบพิธ\n",
      "...         ...         ...          ...          ...              ...\n",
      "10018  96120400          96           12           04        ช้างเผือก\n",
      "10019  96130000          96           13           00       เจาะไอร้อง\n",
      "10020  96130100          96           13           01              จวบ\n",
      "10021  96130200          96           13           02            บูกิต\n",
      "10022  96130300          96           13           03       มะรือโบออก\n",
      "\n",
      "[8441 rows x 5 columns]\n"
     ]
    }
   ],
   "source": [
    "# split digit\n",
    "clean4_county_df = pd.DataFrame({\n",
    "    'code': clean3_county_df['code'],\n",
    "    'state_digit': clean3_county_df['code'].str[0:2],\n",
    "    'county_digit': clean3_county_df['code'].str[2:4],\n",
    "    'aumper_digit': clean3_county_df['code'].str[4:6],\n",
    "    'name': clean3_county_df['name'],\n",
    "})\n",
    "\n",
    "print(clean4_county_df)"
   ]
  },
  {
   "cell_type": "code",
   "execution_count": 37,
   "metadata": {},
   "outputs": [
    {
     "name": "stdout",
     "output_type": "stream",
     "text": [
      "county\n",
      "           code state_digit county_digit aumper_digit        name\n",
      "1      10010000          10           01           00   เขตพระนคร\n",
      "14     10020000          10           02           00    เขตดุสิต\n",
      "22     10030000          10           03           00  เขตหนองจอก\n",
      "31     10040000          10           04           00   เขตบางรัก\n",
      "37     10050000          10           05           00   เขตบางเขน\n",
      "...         ...         ...          ...          ...         ...\n",
      "9996   96090000          96           09           00     สุคิริน\n",
      "10002  96100000          96           10           00  สุไหงโก-ลก\n",
      "10007  96110000          96           11           00   สุไหงปาดี\n",
      "10014  96120000          96           12           00       จะแนะ\n",
      "10019  96130000          96           13           00  เจาะไอร้อง\n",
      "\n",
      "[928 rows x 5 columns]\n",
      "state\n",
      "          code state_digit county_digit aumper_digit             name\n",
      "0     10000000          10           00           00    กรุงเทพมหานคร\n",
      "311   11000000          11           00           00      สมุทรปราการ\n",
      "382   12000000          12           00           00          นนทบุรี\n",
      "443   13000000          13           00           00         ปทุมธานี\n",
      "512   14000000          14           00           00  พระนครศรีอยุธยา\n",
      "...        ...         ...          ...          ...              ...\n",
      "9488  92000000          92           00           00             ตรัง\n",
      "9616  93000000          93           00           00           พัทลุง\n",
      "9716  94000000          94           00           00          ปัตตานี\n",
      "9847  95000000          95           00           00             ยะลา\n",
      "9924  96000000          96           00           00         นราธิวาส\n",
      "\n",
      "[77 rows x 5 columns]\n"
     ]
    }
   ],
   "source": [
    "## filter only county\n",
    "clean5_county_df = clean4_county_df[clean4_county_df['aumper_digit'] == '00']\n",
    "clean6_county_df = clean5_county_df[clean5_county_df['county_digit'] != '00']\n",
    "state_df = clean5_county_df[clean5_county_df['county_digit'] == '00']\n",
    "print('county')\n",
    "print(clean6_county_df)\n",
    "print('state')\n",
    "print(state_df)"
   ]
  },
  {
   "cell_type": "code",
   "execution_count": 38,
   "metadata": {},
   "outputs": [
    {
     "name": "stdout",
     "output_type": "stream",
     "text": [
      "len of county มีอำเภอ aka เขต 928\n",
      "len of state มีจังหวัด 77\n"
     ]
    }
   ],
   "source": [
    "# ป้องกันการผิดพลาด ต้องนับจำนวนของ เเต่ละตัว ทั้งหมดไว้ก่อนจะ merge df\n",
    "print('len of county มีอำเภอ aka เขต',len(clean6_county_df))\n",
    "print('len of state มีจังหวัด',len(state_df))"
   ]
  },
  {
   "cell_type": "code",
   "execution_count": 39,
   "metadata": {},
   "outputs": [
    {
     "name": "stdout",
     "output_type": "stream",
     "text": [
      "       code_x state_digit county_digit_x aumper_digit_x      name_x    code_y  \\\n",
      "0    10010000          10             01             00   เขตพระนคร  10000000   \n",
      "1    10020000          10             02             00    เขตดุสิต  10000000   \n",
      "2    10030000          10             03             00  เขตหนองจอก  10000000   \n",
      "3    10040000          10             04             00   เขตบางรัก  10000000   \n",
      "4    10050000          10             05             00   เขตบางเขน  10000000   \n",
      "..        ...         ...            ...            ...         ...       ...   \n",
      "923  96090000          96             09             00     สุคิริน  96000000   \n",
      "924  96100000          96             10             00  สุไหงโก-ลก  96000000   \n",
      "925  96110000          96             11             00   สุไหงปาดี  96000000   \n",
      "926  96120000          96             12             00       จะแนะ  96000000   \n",
      "927  96130000          96             13             00  เจาะไอร้อง  96000000   \n",
      "\n",
      "    county_digit_y aumper_digit_y         name_y  \n",
      "0               00             00  กรุงเทพมหานคร  \n",
      "1               00             00  กรุงเทพมหานคร  \n",
      "2               00             00  กรุงเทพมหานคร  \n",
      "3               00             00  กรุงเทพมหานคร  \n",
      "4               00             00  กรุงเทพมหานคร  \n",
      "..             ...            ...            ...  \n",
      "923             00             00       นราธิวาส  \n",
      "924             00             00       นราธิวาส  \n",
      "925             00             00       นราธิวาส  \n",
      "926             00             00       นราธิวาส  \n",
      "927             00             00       นราธิวาส  \n",
      "\n",
      "[928 rows x 9 columns]\n"
     ]
    }
   ],
   "source": [
    "merged_county_df = pd.merge(clean6_county_df, state_df, on='state_digit', how='inner')\n",
    "\n",
    "print(merged_county_df)"
   ]
  },
  {
   "cell_type": "code",
   "execution_count": 40,
   "metadata": {},
   "outputs": [
    {
     "name": "stdout",
     "output_type": "stream",
     "text": [
      "928\n"
     ]
    }
   ],
   "source": [
    "# นับจำนวน กันพลาด\n",
    "print(len(merged_county_df))"
   ]
  },
  {
   "cell_type": "code",
   "execution_count": 41,
   "metadata": {},
   "outputs": [
    {
     "name": "stdout",
     "output_type": "stream",
     "text": [
      "         code        name inside_state_code inside_state_name\n",
      "0    10010000   เขตพระนคร          10000000     กรุงเทพมหานคร\n",
      "1    10020000    เขตดุสิต          10000000     กรุงเทพมหานคร\n",
      "2    10030000  เขตหนองจอก          10000000     กรุงเทพมหานคร\n",
      "3    10040000   เขตบางรัก          10000000     กรุงเทพมหานคร\n",
      "4    10050000   เขตบางเขน          10000000     กรุงเทพมหานคร\n",
      "..        ...         ...               ...               ...\n",
      "923  96090000     สุคิริน          96000000          นราธิวาส\n",
      "924  96100000  สุไหงโก-ลก          96000000          นราธิวาส\n",
      "925  96110000   สุไหงปาดี          96000000          นราธิวาส\n",
      "926  96120000       จะแนะ          96000000          นราธิวาส\n",
      "927  96130000  เจาะไอร้อง          96000000          นราธิวาส\n",
      "\n",
      "[928 rows x 4 columns]\n"
     ]
    }
   ],
   "source": [
    "county_code_name_inside = pd.DataFrame({\n",
    "    'code': merged_county_df['code_x'],\n",
    "    'name': merged_county_df['name_x'],\n",
    "    'inside_state_code': merged_county_df['code_y'],\n",
    "    'inside_state_name': merged_county_df['name_y'],\n",
    "})\n",
    "print(county_code_name_inside)"
   ]
  },
  {
   "cell_type": "code",
   "execution_count": 42,
   "metadata": {},
   "outputs": [
    {
     "name": "stdout",
     "output_type": "stream",
     "text": [
      "    Unnamed: 0  geo_id           geo_code             name abbreviation  \\\n",
      "0            0    1419  state-TH-10000000    กรุงเทพมหานคร          BKK   \n",
      "1            1    1420  state-TH-11000000      สมุทรปราการ          SPK   \n",
      "2            2    1421  state-TH-12000000          นนทบุรี          NBI   \n",
      "3            3    1422  state-TH-13000000         ปทุมธานี          PTE   \n",
      "4            4    1423  state-TH-14000000  พระนครศรีอยุธยา          AYA   \n",
      "..         ...     ...                ...              ...          ...   \n",
      "72          72    1491  state-TH-92000000             ตรัง          TRG   \n",
      "73          73    1492  state-TH-93000000           พัทลุง          PLG   \n",
      "74          74    1493  state-TH-94000000          ปัตตานี          PTN   \n",
      "75          75    1494  state-TH-95000000             ยะลา          YLA   \n",
      "76          76    1495  state-TH-96000000         นราธิวาส          NWT   \n",
      "\n",
      "    type_id  \n",
      "0         3  \n",
      "1         3  \n",
      "2         3  \n",
      "3         3  \n",
      "4         3  \n",
      "..      ...  \n",
      "72        3  \n",
      "73        3  \n",
      "74        3  \n",
      "75        3  \n",
      "76        3  \n",
      "\n",
      "[77 rows x 6 columns]\n"
     ]
    }
   ],
   "source": [
    "state_suppertype_df = pd.read_csv('./state_suppertype.csv')\n",
    "print(state_suppertype_df)"
   ]
  },
  {
   "cell_type": "code",
   "execution_count": 44,
   "metadata": {},
   "outputs": [
    {
     "name": "stdout",
     "output_type": "stream",
     "text": [
      "         code      name_x inside_state_code inside_state_name  Unnamed: 0  \\\n",
      "0    10010000   เขตพระนคร          10000000     กรุงเทพมหานคร           0   \n",
      "1    10020000    เขตดุสิต          10000000     กรุงเทพมหานคร           0   \n",
      "2    10030000  เขตหนองจอก          10000000     กรุงเทพมหานคร           0   \n",
      "3    10040000   เขตบางรัก          10000000     กรุงเทพมหานคร           0   \n",
      "4    10050000   เขตบางเขน          10000000     กรุงเทพมหานคร           0   \n",
      "..        ...         ...               ...               ...         ...   \n",
      "923  96090000     สุคิริน          96000000          นราธิวาส          76   \n",
      "924  96100000  สุไหงโก-ลก          96000000          นราธิวาส          76   \n",
      "925  96110000   สุไหงปาดี          96000000          นราธิวาส          76   \n",
      "926  96120000       จะแนะ          96000000          นราธิวาส          76   \n",
      "927  96130000  เจาะไอร้อง          96000000          นราธิวาส          76   \n",
      "\n",
      "     geo_id           geo_code         name_y abbreviation  type_id  \n",
      "0      1419  state-TH-10000000  กรุงเทพมหานคร          BKK        3  \n",
      "1      1419  state-TH-10000000  กรุงเทพมหานคร          BKK        3  \n",
      "2      1419  state-TH-10000000  กรุงเทพมหานคร          BKK        3  \n",
      "3      1419  state-TH-10000000  กรุงเทพมหานคร          BKK        3  \n",
      "4      1419  state-TH-10000000  กรุงเทพมหานคร          BKK        3  \n",
      "..      ...                ...            ...          ...      ...  \n",
      "923    1495  state-TH-96000000       นราธิวาส          NWT        3  \n",
      "924    1495  state-TH-96000000       นราธิวาส          NWT        3  \n",
      "925    1495  state-TH-96000000       นราธิวาส          NWT        3  \n",
      "926    1495  state-TH-96000000       นราธิวาส          NWT        3  \n",
      "927    1495  state-TH-96000000       นราธิวาส          NWT        3  \n",
      "\n",
      "[928 rows x 10 columns]\n"
     ]
    }
   ],
   "source": [
    "raw_county_state_df = pd.merge(county_code_name_inside, state_suppertype_df, left_on='inside_state_name', right_on='name', how='inner')\n",
    "print(raw_county_state_df)"
   ]
  },
  {
   "cell_type": "code",
   "execution_count": 45,
   "metadata": {},
   "outputs": [
    {
     "name": "stdout",
     "output_type": "stream",
     "text": [
      "928\n",
      "<class 'pandas.core.frame.DataFrame'>\n",
      "RangeIndex: 928 entries, 0 to 927\n",
      "Data columns (total 10 columns):\n",
      " #   Column             Non-Null Count  Dtype \n",
      "---  ------             --------------  ----- \n",
      " 0   code               928 non-null    object\n",
      " 1   name_x             928 non-null    object\n",
      " 2   inside_state_code  928 non-null    object\n",
      " 3   inside_state_name  928 non-null    object\n",
      " 4   Unnamed: 0         928 non-null    int64 \n",
      " 5   geo_id             928 non-null    int64 \n",
      " 6   geo_code           928 non-null    object\n",
      " 7   name_y             928 non-null    object\n",
      " 8   abbreviation       928 non-null    object\n",
      " 9   type_id            928 non-null    int64 \n",
      "dtypes: int64(3), object(7)\n",
      "memory usage: 72.6+ KB\n",
      "None\n"
     ]
    }
   ],
   "source": [
    "# นับหลังจาก merge กันพลาด\n",
    "print(len(raw_county_state_df))\n",
    "print(raw_county_state_df.info())"
   ]
  },
  {
   "cell_type": "code",
   "execution_count": 50,
   "metadata": {},
   "outputs": [
    {
     "name": "stdout",
     "output_type": "stream",
     "text": [
      "     geo_id         geo_code        name abbreviation\n",
      "0      1496  county-10010000   เขตพระนคร            -\n",
      "1      1497  county-10020000    เขตดุสิต            -\n",
      "2      1498  county-10030000  เขตหนองจอก            -\n",
      "3      1499  county-10040000   เขตบางรัก            -\n",
      "4      1500  county-10050000   เขตบางเขน            -\n",
      "..      ...              ...         ...          ...\n",
      "923    2419  county-96090000     สุคิริน            -\n",
      "924    2420  county-96100000  สุไหงโก-ลก            -\n",
      "925    2421  county-96110000   สุไหงปาดี            -\n",
      "926    2422  county-96120000       จะแนะ            -\n",
      "927    2423  county-96130000  เจาะไอร้อง            -\n",
      "\n",
      "[928 rows x 4 columns]\n"
     ]
    }
   ],
   "source": [
    "county_suppertype_df = pd.DataFrame({\n",
    "    \"geo_id\": range(1496, len(raw_county_state_df) + 1496),  # สร้าง sequential ID\n",
    "    \"geo_code\":'county-'+raw_county_state_df['code'].astype(str),\n",
    "    'name':raw_county_state_df['name_x'],\n",
    "    'abbreviation':'-'\n",
    "})\n",
    "county_suppertype_df.to_csv('./county_suppertype.csv')\n",
    "print(county_suppertype_df)"
   ]
  },
  {
   "cell_type": "code",
   "execution_count": 51,
   "metadata": {},
   "outputs": [
    {
     "name": "stdout",
     "output_type": "stream",
     "text": [
      "     geo_id  state_id\n",
      "0      1496      1419\n",
      "1      1497      1419\n",
      "2      1498      1419\n",
      "3      1499      1419\n",
      "4      1500      1419\n",
      "..      ...       ...\n",
      "923    2419      1495\n",
      "924    2420      1495\n",
      "925    2421      1495\n",
      "926    2422      1495\n",
      "927    2423      1495\n",
      "\n",
      "[928 rows x 2 columns]\n"
     ]
    }
   ],
   "source": [
    "county_subtype_df = pd.DataFrame({\n",
    "    \"geo_id\": county_suppertype_df['geo_id'],\n",
    "    \"state_id\": raw_county_state_df['geo_id'],\n",
    "})\n",
    "# raw_county_state_df คือ inner join ของ county เเละ state เอาไว้ get state ที่ county อยู่ภายในนั้น\n",
    "\n",
    "county_subtype_df.to_csv('./county_subtype.csv')\n",
    "print(county_subtype_df)"
   ]
  }
 ],
 "metadata": {
  "kernelspec": {
   "display_name": "Python 3",
   "language": "python",
   "name": "python3"
  },
  "language_info": {
   "codemirror_mode": {
    "name": "ipython",
    "version": 3
   },
   "file_extension": ".py",
   "mimetype": "text/x-python",
   "name": "python",
   "nbconvert_exporter": "python",
   "pygments_lexer": "ipython3",
   "version": "3.11.7"
  }
 },
 "nbformat": 4,
 "nbformat_minor": 2
}
